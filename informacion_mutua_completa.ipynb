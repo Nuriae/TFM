{
 "cells": [
  {
   "cell_type": "code",
   "execution_count": 62,
   "metadata": {},
   "outputs": [],
   "source": [
    "import pandas as pd"
   ]
  },
  {
   "cell_type": "code",
   "execution_count": 63,
   "metadata": {},
   "outputs": [
    {
     "name": "stderr",
     "output_type": "stream",
     "text": [
      "C:\\Users\\estre\\AppData\\Local\\Temp\\ipykernel_5376\\1027246833.py:1: DtypeWarning: Columns (92) have mixed types. Specify dtype option on import or set low_memory=False.\n",
      "  data = pd.read_csv('drebin-215-dataset-5560malware-9476-benign.csv', delimiter=',')\n"
     ]
    }
   ],
   "source": [
    "data = pd.read_csv('drebin-215-dataset-5560malware-9476-benign.csv', delimiter=',')"
   ]
  },
  {
   "cell_type": "code",
   "execution_count": 64,
   "metadata": {},
   "outputs": [
    {
     "data": {
      "text/html": [
       "<div>\n",
       "<style scoped>\n",
       "    .dataframe tbody tr th:only-of-type {\n",
       "        vertical-align: middle;\n",
       "    }\n",
       "\n",
       "    .dataframe tbody tr th {\n",
       "        vertical-align: top;\n",
       "    }\n",
       "\n",
       "    .dataframe thead th {\n",
       "        text-align: right;\n",
       "    }\n",
       "</style>\n",
       "<table border=\"1\" class=\"dataframe\">\n",
       "  <thead>\n",
       "    <tr style=\"text-align: right;\">\n",
       "      <th></th>\n",
       "      <th>transact</th>\n",
       "      <th>onServiceConnected</th>\n",
       "      <th>bindService</th>\n",
       "      <th>attachInterface</th>\n",
       "      <th>ServiceConnection</th>\n",
       "      <th>android.os.Binder</th>\n",
       "      <th>SEND_SMS</th>\n",
       "      <th>Ljava.lang.Class.getCanonicalName</th>\n",
       "      <th>Ljava.lang.Class.getMethods</th>\n",
       "      <th>Ljava.lang.Class.cast</th>\n",
       "      <th>...</th>\n",
       "      <th>READ_CONTACTS</th>\n",
       "      <th>DEVICE_POWER</th>\n",
       "      <th>HARDWARE_TEST</th>\n",
       "      <th>ACCESS_WIFI_STATE</th>\n",
       "      <th>WRITE_EXTERNAL_STORAGE</th>\n",
       "      <th>ACCESS_FINE_LOCATION</th>\n",
       "      <th>SET_WALLPAPER_HINTS</th>\n",
       "      <th>SET_PREFERRED_APPLICATIONS</th>\n",
       "      <th>WRITE_SECURE_SETTINGS</th>\n",
       "      <th>class</th>\n",
       "    </tr>\n",
       "  </thead>\n",
       "  <tbody>\n",
       "    <tr>\n",
       "      <th>0</th>\n",
       "      <td>0</td>\n",
       "      <td>0</td>\n",
       "      <td>0</td>\n",
       "      <td>0</td>\n",
       "      <td>0</td>\n",
       "      <td>0</td>\n",
       "      <td>1</td>\n",
       "      <td>0</td>\n",
       "      <td>0</td>\n",
       "      <td>0</td>\n",
       "      <td>...</td>\n",
       "      <td>0</td>\n",
       "      <td>0</td>\n",
       "      <td>0</td>\n",
       "      <td>0</td>\n",
       "      <td>1</td>\n",
       "      <td>0</td>\n",
       "      <td>0</td>\n",
       "      <td>0</td>\n",
       "      <td>0</td>\n",
       "      <td>S</td>\n",
       "    </tr>\n",
       "    <tr>\n",
       "      <th>1</th>\n",
       "      <td>0</td>\n",
       "      <td>0</td>\n",
       "      <td>0</td>\n",
       "      <td>0</td>\n",
       "      <td>0</td>\n",
       "      <td>0</td>\n",
       "      <td>1</td>\n",
       "      <td>0</td>\n",
       "      <td>0</td>\n",
       "      <td>0</td>\n",
       "      <td>...</td>\n",
       "      <td>0</td>\n",
       "      <td>0</td>\n",
       "      <td>0</td>\n",
       "      <td>0</td>\n",
       "      <td>1</td>\n",
       "      <td>0</td>\n",
       "      <td>0</td>\n",
       "      <td>0</td>\n",
       "      <td>0</td>\n",
       "      <td>S</td>\n",
       "    </tr>\n",
       "    <tr>\n",
       "      <th>2</th>\n",
       "      <td>0</td>\n",
       "      <td>0</td>\n",
       "      <td>0</td>\n",
       "      <td>0</td>\n",
       "      <td>0</td>\n",
       "      <td>0</td>\n",
       "      <td>1</td>\n",
       "      <td>0</td>\n",
       "      <td>0</td>\n",
       "      <td>0</td>\n",
       "      <td>...</td>\n",
       "      <td>0</td>\n",
       "      <td>0</td>\n",
       "      <td>0</td>\n",
       "      <td>0</td>\n",
       "      <td>0</td>\n",
       "      <td>0</td>\n",
       "      <td>0</td>\n",
       "      <td>0</td>\n",
       "      <td>0</td>\n",
       "      <td>S</td>\n",
       "    </tr>\n",
       "    <tr>\n",
       "      <th>3</th>\n",
       "      <td>0</td>\n",
       "      <td>0</td>\n",
       "      <td>0</td>\n",
       "      <td>0</td>\n",
       "      <td>0</td>\n",
       "      <td>0</td>\n",
       "      <td>0</td>\n",
       "      <td>0</td>\n",
       "      <td>0</td>\n",
       "      <td>1</td>\n",
       "      <td>...</td>\n",
       "      <td>0</td>\n",
       "      <td>0</td>\n",
       "      <td>0</td>\n",
       "      <td>1</td>\n",
       "      <td>1</td>\n",
       "      <td>1</td>\n",
       "      <td>0</td>\n",
       "      <td>0</td>\n",
       "      <td>0</td>\n",
       "      <td>S</td>\n",
       "    </tr>\n",
       "    <tr>\n",
       "      <th>4</th>\n",
       "      <td>0</td>\n",
       "      <td>0</td>\n",
       "      <td>0</td>\n",
       "      <td>0</td>\n",
       "      <td>0</td>\n",
       "      <td>0</td>\n",
       "      <td>0</td>\n",
       "      <td>0</td>\n",
       "      <td>0</td>\n",
       "      <td>0</td>\n",
       "      <td>...</td>\n",
       "      <td>0</td>\n",
       "      <td>0</td>\n",
       "      <td>0</td>\n",
       "      <td>1</td>\n",
       "      <td>0</td>\n",
       "      <td>1</td>\n",
       "      <td>0</td>\n",
       "      <td>0</td>\n",
       "      <td>0</td>\n",
       "      <td>S</td>\n",
       "    </tr>\n",
       "    <tr>\n",
       "      <th>...</th>\n",
       "      <td>...</td>\n",
       "      <td>...</td>\n",
       "      <td>...</td>\n",
       "      <td>...</td>\n",
       "      <td>...</td>\n",
       "      <td>...</td>\n",
       "      <td>...</td>\n",
       "      <td>...</td>\n",
       "      <td>...</td>\n",
       "      <td>...</td>\n",
       "      <td>...</td>\n",
       "      <td>...</td>\n",
       "      <td>...</td>\n",
       "      <td>...</td>\n",
       "      <td>...</td>\n",
       "      <td>...</td>\n",
       "      <td>...</td>\n",
       "      <td>...</td>\n",
       "      <td>...</td>\n",
       "      <td>...</td>\n",
       "      <td>...</td>\n",
       "    </tr>\n",
       "    <tr>\n",
       "      <th>15031</th>\n",
       "      <td>1</td>\n",
       "      <td>1</td>\n",
       "      <td>1</td>\n",
       "      <td>1</td>\n",
       "      <td>1</td>\n",
       "      <td>1</td>\n",
       "      <td>0</td>\n",
       "      <td>1</td>\n",
       "      <td>1</td>\n",
       "      <td>1</td>\n",
       "      <td>...</td>\n",
       "      <td>0</td>\n",
       "      <td>0</td>\n",
       "      <td>0</td>\n",
       "      <td>1</td>\n",
       "      <td>1</td>\n",
       "      <td>0</td>\n",
       "      <td>0</td>\n",
       "      <td>0</td>\n",
       "      <td>0</td>\n",
       "      <td>B</td>\n",
       "    </tr>\n",
       "    <tr>\n",
       "      <th>15032</th>\n",
       "      <td>0</td>\n",
       "      <td>0</td>\n",
       "      <td>0</td>\n",
       "      <td>0</td>\n",
       "      <td>0</td>\n",
       "      <td>0</td>\n",
       "      <td>0</td>\n",
       "      <td>0</td>\n",
       "      <td>0</td>\n",
       "      <td>1</td>\n",
       "      <td>...</td>\n",
       "      <td>0</td>\n",
       "      <td>0</td>\n",
       "      <td>0</td>\n",
       "      <td>1</td>\n",
       "      <td>1</td>\n",
       "      <td>0</td>\n",
       "      <td>0</td>\n",
       "      <td>0</td>\n",
       "      <td>0</td>\n",
       "      <td>B</td>\n",
       "    </tr>\n",
       "    <tr>\n",
       "      <th>15033</th>\n",
       "      <td>0</td>\n",
       "      <td>0</td>\n",
       "      <td>0</td>\n",
       "      <td>0</td>\n",
       "      <td>0</td>\n",
       "      <td>0</td>\n",
       "      <td>0</td>\n",
       "      <td>0</td>\n",
       "      <td>0</td>\n",
       "      <td>0</td>\n",
       "      <td>...</td>\n",
       "      <td>0</td>\n",
       "      <td>0</td>\n",
       "      <td>0</td>\n",
       "      <td>1</td>\n",
       "      <td>1</td>\n",
       "      <td>0</td>\n",
       "      <td>0</td>\n",
       "      <td>0</td>\n",
       "      <td>0</td>\n",
       "      <td>B</td>\n",
       "    </tr>\n",
       "    <tr>\n",
       "      <th>15034</th>\n",
       "      <td>1</td>\n",
       "      <td>1</td>\n",
       "      <td>1</td>\n",
       "      <td>1</td>\n",
       "      <td>1</td>\n",
       "      <td>1</td>\n",
       "      <td>0</td>\n",
       "      <td>1</td>\n",
       "      <td>1</td>\n",
       "      <td>1</td>\n",
       "      <td>...</td>\n",
       "      <td>1</td>\n",
       "      <td>0</td>\n",
       "      <td>0</td>\n",
       "      <td>1</td>\n",
       "      <td>1</td>\n",
       "      <td>1</td>\n",
       "      <td>0</td>\n",
       "      <td>0</td>\n",
       "      <td>0</td>\n",
       "      <td>B</td>\n",
       "    </tr>\n",
       "    <tr>\n",
       "      <th>15035</th>\n",
       "      <td>1</td>\n",
       "      <td>1</td>\n",
       "      <td>1</td>\n",
       "      <td>1</td>\n",
       "      <td>1</td>\n",
       "      <td>1</td>\n",
       "      <td>0</td>\n",
       "      <td>1</td>\n",
       "      <td>1</td>\n",
       "      <td>1</td>\n",
       "      <td>...</td>\n",
       "      <td>0</td>\n",
       "      <td>0</td>\n",
       "      <td>0</td>\n",
       "      <td>0</td>\n",
       "      <td>1</td>\n",
       "      <td>1</td>\n",
       "      <td>0</td>\n",
       "      <td>0</td>\n",
       "      <td>0</td>\n",
       "      <td>B</td>\n",
       "    </tr>\n",
       "  </tbody>\n",
       "</table>\n",
       "<p>15036 rows × 216 columns</p>\n",
       "</div>"
      ],
      "text/plain": [
       "       transact  onServiceConnected  bindService  attachInterface  \\\n",
       "0             0                   0            0                0   \n",
       "1             0                   0            0                0   \n",
       "2             0                   0            0                0   \n",
       "3             0                   0            0                0   \n",
       "4             0                   0            0                0   \n",
       "...         ...                 ...          ...              ...   \n",
       "15031         1                   1            1                1   \n",
       "15032         0                   0            0                0   \n",
       "15033         0                   0            0                0   \n",
       "15034         1                   1            1                1   \n",
       "15035         1                   1            1                1   \n",
       "\n",
       "       ServiceConnection  android.os.Binder  SEND_SMS  \\\n",
       "0                      0                  0         1   \n",
       "1                      0                  0         1   \n",
       "2                      0                  0         1   \n",
       "3                      0                  0         0   \n",
       "4                      0                  0         0   \n",
       "...                  ...                ...       ...   \n",
       "15031                  1                  1         0   \n",
       "15032                  0                  0         0   \n",
       "15033                  0                  0         0   \n",
       "15034                  1                  1         0   \n",
       "15035                  1                  1         0   \n",
       "\n",
       "       Ljava.lang.Class.getCanonicalName  Ljava.lang.Class.getMethods  \\\n",
       "0                                      0                            0   \n",
       "1                                      0                            0   \n",
       "2                                      0                            0   \n",
       "3                                      0                            0   \n",
       "4                                      0                            0   \n",
       "...                                  ...                          ...   \n",
       "15031                                  1                            1   \n",
       "15032                                  0                            0   \n",
       "15033                                  0                            0   \n",
       "15034                                  1                            1   \n",
       "15035                                  1                            1   \n",
       "\n",
       "       Ljava.lang.Class.cast  ...  READ_CONTACTS  DEVICE_POWER  HARDWARE_TEST  \\\n",
       "0                          0  ...              0             0              0   \n",
       "1                          0  ...              0             0              0   \n",
       "2                          0  ...              0             0              0   \n",
       "3                          1  ...              0             0              0   \n",
       "4                          0  ...              0             0              0   \n",
       "...                      ...  ...            ...           ...            ...   \n",
       "15031                      1  ...              0             0              0   \n",
       "15032                      1  ...              0             0              0   \n",
       "15033                      0  ...              0             0              0   \n",
       "15034                      1  ...              1             0              0   \n",
       "15035                      1  ...              0             0              0   \n",
       "\n",
       "       ACCESS_WIFI_STATE  WRITE_EXTERNAL_STORAGE  ACCESS_FINE_LOCATION  \\\n",
       "0                      0                       1                     0   \n",
       "1                      0                       1                     0   \n",
       "2                      0                       0                     0   \n",
       "3                      1                       1                     1   \n",
       "4                      1                       0                     1   \n",
       "...                  ...                     ...                   ...   \n",
       "15031                  1                       1                     0   \n",
       "15032                  1                       1                     0   \n",
       "15033                  1                       1                     0   \n",
       "15034                  1                       1                     1   \n",
       "15035                  0                       1                     1   \n",
       "\n",
       "       SET_WALLPAPER_HINTS  SET_PREFERRED_APPLICATIONS  WRITE_SECURE_SETTINGS  \\\n",
       "0                        0                           0                      0   \n",
       "1                        0                           0                      0   \n",
       "2                        0                           0                      0   \n",
       "3                        0                           0                      0   \n",
       "4                        0                           0                      0   \n",
       "...                    ...                         ...                    ...   \n",
       "15031                    0                           0                      0   \n",
       "15032                    0                           0                      0   \n",
       "15033                    0                           0                      0   \n",
       "15034                    0                           0                      0   \n",
       "15035                    0                           0                      0   \n",
       "\n",
       "       class  \n",
       "0          S  \n",
       "1          S  \n",
       "2          S  \n",
       "3          S  \n",
       "4          S  \n",
       "...      ...  \n",
       "15031      B  \n",
       "15032      B  \n",
       "15033      B  \n",
       "15034      B  \n",
       "15035      B  \n",
       "\n",
       "[15036 rows x 216 columns]"
      ]
     },
     "execution_count": 64,
     "metadata": {},
     "output_type": "execute_result"
    }
   ],
   "source": [
    "data"
   ]
  },
  {
   "cell_type": "markdown",
   "metadata": {},
   "source": [
    "### Información de las clases"
   ]
  },
  {
   "cell_type": "code",
   "execution_count": 65,
   "metadata": {},
   "outputs": [
    {
     "name": "stdout",
     "output_type": "stream",
     "text": [
      "<class 'pandas.core.frame.DataFrame'>\n",
      "RangeIndex: 15036 entries, 0 to 15035\n",
      "Columns: 216 entries, transact to class\n",
      "dtypes: int64(214), object(2)\n",
      "memory usage: 24.8+ MB\n"
     ]
    }
   ],
   "source": [
    "data.info()"
   ]
  },
  {
   "cell_type": "markdown",
   "metadata": {},
   "source": [
    "### Desbalanceo de las clases"
   ]
  },
  {
   "cell_type": "code",
   "execution_count": 66,
   "metadata": {},
   "outputs": [
    {
     "data": {
      "text/plain": [
       "5560"
      ]
     },
     "execution_count": 66,
     "metadata": {},
     "output_type": "execute_result"
    }
   ],
   "source": [
    "len(data[data['class']=='S'])"
   ]
  },
  {
   "cell_type": "code",
   "execution_count": 67,
   "metadata": {},
   "outputs": [
    {
     "data": {
      "text/plain": [
       "9476"
      ]
     },
     "execution_count": 67,
     "metadata": {},
     "output_type": "execute_result"
    }
   ],
   "source": [
    "len(data[data['class']=='B'])"
   ]
  },
  {
   "cell_type": "markdown",
   "metadata": {},
   "source": [
    "Hay un desbalencio de las clases, hay más app que no son malware. "
   ]
  },
  {
   "cell_type": "markdown",
   "metadata": {},
   "source": [
    "### Codificación de la variable 'class'"
   ]
  },
  {
   "cell_type": "code",
   "execution_count": 68,
   "metadata": {},
   "outputs": [],
   "source": [
    "class_maping={'B':0, 'S':1}\n",
    "data['class'] = data['class'].map(class_maping)"
   ]
  },
  {
   "cell_type": "code",
   "execution_count": 69,
   "metadata": {},
   "outputs": [
    {
     "data": {
      "text/html": [
       "<div>\n",
       "<style scoped>\n",
       "    .dataframe tbody tr th:only-of-type {\n",
       "        vertical-align: middle;\n",
       "    }\n",
       "\n",
       "    .dataframe tbody tr th {\n",
       "        vertical-align: top;\n",
       "    }\n",
       "\n",
       "    .dataframe thead th {\n",
       "        text-align: right;\n",
       "    }\n",
       "</style>\n",
       "<table border=\"1\" class=\"dataframe\">\n",
       "  <thead>\n",
       "    <tr style=\"text-align: right;\">\n",
       "      <th></th>\n",
       "      <th>transact</th>\n",
       "      <th>onServiceConnected</th>\n",
       "      <th>bindService</th>\n",
       "      <th>attachInterface</th>\n",
       "      <th>ServiceConnection</th>\n",
       "      <th>android.os.Binder</th>\n",
       "      <th>SEND_SMS</th>\n",
       "      <th>Ljava.lang.Class.getCanonicalName</th>\n",
       "      <th>Ljava.lang.Class.getMethods</th>\n",
       "      <th>Ljava.lang.Class.cast</th>\n",
       "      <th>...</th>\n",
       "      <th>READ_CONTACTS</th>\n",
       "      <th>DEVICE_POWER</th>\n",
       "      <th>HARDWARE_TEST</th>\n",
       "      <th>ACCESS_WIFI_STATE</th>\n",
       "      <th>WRITE_EXTERNAL_STORAGE</th>\n",
       "      <th>ACCESS_FINE_LOCATION</th>\n",
       "      <th>SET_WALLPAPER_HINTS</th>\n",
       "      <th>SET_PREFERRED_APPLICATIONS</th>\n",
       "      <th>WRITE_SECURE_SETTINGS</th>\n",
       "      <th>class</th>\n",
       "    </tr>\n",
       "  </thead>\n",
       "  <tbody>\n",
       "    <tr>\n",
       "      <th>0</th>\n",
       "      <td>0</td>\n",
       "      <td>0</td>\n",
       "      <td>0</td>\n",
       "      <td>0</td>\n",
       "      <td>0</td>\n",
       "      <td>0</td>\n",
       "      <td>1</td>\n",
       "      <td>0</td>\n",
       "      <td>0</td>\n",
       "      <td>0</td>\n",
       "      <td>...</td>\n",
       "      <td>0</td>\n",
       "      <td>0</td>\n",
       "      <td>0</td>\n",
       "      <td>0</td>\n",
       "      <td>1</td>\n",
       "      <td>0</td>\n",
       "      <td>0</td>\n",
       "      <td>0</td>\n",
       "      <td>0</td>\n",
       "      <td>1</td>\n",
       "    </tr>\n",
       "    <tr>\n",
       "      <th>1</th>\n",
       "      <td>0</td>\n",
       "      <td>0</td>\n",
       "      <td>0</td>\n",
       "      <td>0</td>\n",
       "      <td>0</td>\n",
       "      <td>0</td>\n",
       "      <td>1</td>\n",
       "      <td>0</td>\n",
       "      <td>0</td>\n",
       "      <td>0</td>\n",
       "      <td>...</td>\n",
       "      <td>0</td>\n",
       "      <td>0</td>\n",
       "      <td>0</td>\n",
       "      <td>0</td>\n",
       "      <td>1</td>\n",
       "      <td>0</td>\n",
       "      <td>0</td>\n",
       "      <td>0</td>\n",
       "      <td>0</td>\n",
       "      <td>1</td>\n",
       "    </tr>\n",
       "    <tr>\n",
       "      <th>2</th>\n",
       "      <td>0</td>\n",
       "      <td>0</td>\n",
       "      <td>0</td>\n",
       "      <td>0</td>\n",
       "      <td>0</td>\n",
       "      <td>0</td>\n",
       "      <td>1</td>\n",
       "      <td>0</td>\n",
       "      <td>0</td>\n",
       "      <td>0</td>\n",
       "      <td>...</td>\n",
       "      <td>0</td>\n",
       "      <td>0</td>\n",
       "      <td>0</td>\n",
       "      <td>0</td>\n",
       "      <td>0</td>\n",
       "      <td>0</td>\n",
       "      <td>0</td>\n",
       "      <td>0</td>\n",
       "      <td>0</td>\n",
       "      <td>1</td>\n",
       "    </tr>\n",
       "    <tr>\n",
       "      <th>3</th>\n",
       "      <td>0</td>\n",
       "      <td>0</td>\n",
       "      <td>0</td>\n",
       "      <td>0</td>\n",
       "      <td>0</td>\n",
       "      <td>0</td>\n",
       "      <td>0</td>\n",
       "      <td>0</td>\n",
       "      <td>0</td>\n",
       "      <td>1</td>\n",
       "      <td>...</td>\n",
       "      <td>0</td>\n",
       "      <td>0</td>\n",
       "      <td>0</td>\n",
       "      <td>1</td>\n",
       "      <td>1</td>\n",
       "      <td>1</td>\n",
       "      <td>0</td>\n",
       "      <td>0</td>\n",
       "      <td>0</td>\n",
       "      <td>1</td>\n",
       "    </tr>\n",
       "    <tr>\n",
       "      <th>4</th>\n",
       "      <td>0</td>\n",
       "      <td>0</td>\n",
       "      <td>0</td>\n",
       "      <td>0</td>\n",
       "      <td>0</td>\n",
       "      <td>0</td>\n",
       "      <td>0</td>\n",
       "      <td>0</td>\n",
       "      <td>0</td>\n",
       "      <td>0</td>\n",
       "      <td>...</td>\n",
       "      <td>0</td>\n",
       "      <td>0</td>\n",
       "      <td>0</td>\n",
       "      <td>1</td>\n",
       "      <td>0</td>\n",
       "      <td>1</td>\n",
       "      <td>0</td>\n",
       "      <td>0</td>\n",
       "      <td>0</td>\n",
       "      <td>1</td>\n",
       "    </tr>\n",
       "    <tr>\n",
       "      <th>...</th>\n",
       "      <td>...</td>\n",
       "      <td>...</td>\n",
       "      <td>...</td>\n",
       "      <td>...</td>\n",
       "      <td>...</td>\n",
       "      <td>...</td>\n",
       "      <td>...</td>\n",
       "      <td>...</td>\n",
       "      <td>...</td>\n",
       "      <td>...</td>\n",
       "      <td>...</td>\n",
       "      <td>...</td>\n",
       "      <td>...</td>\n",
       "      <td>...</td>\n",
       "      <td>...</td>\n",
       "      <td>...</td>\n",
       "      <td>...</td>\n",
       "      <td>...</td>\n",
       "      <td>...</td>\n",
       "      <td>...</td>\n",
       "      <td>...</td>\n",
       "    </tr>\n",
       "    <tr>\n",
       "      <th>15031</th>\n",
       "      <td>1</td>\n",
       "      <td>1</td>\n",
       "      <td>1</td>\n",
       "      <td>1</td>\n",
       "      <td>1</td>\n",
       "      <td>1</td>\n",
       "      <td>0</td>\n",
       "      <td>1</td>\n",
       "      <td>1</td>\n",
       "      <td>1</td>\n",
       "      <td>...</td>\n",
       "      <td>0</td>\n",
       "      <td>0</td>\n",
       "      <td>0</td>\n",
       "      <td>1</td>\n",
       "      <td>1</td>\n",
       "      <td>0</td>\n",
       "      <td>0</td>\n",
       "      <td>0</td>\n",
       "      <td>0</td>\n",
       "      <td>0</td>\n",
       "    </tr>\n",
       "    <tr>\n",
       "      <th>15032</th>\n",
       "      <td>0</td>\n",
       "      <td>0</td>\n",
       "      <td>0</td>\n",
       "      <td>0</td>\n",
       "      <td>0</td>\n",
       "      <td>0</td>\n",
       "      <td>0</td>\n",
       "      <td>0</td>\n",
       "      <td>0</td>\n",
       "      <td>1</td>\n",
       "      <td>...</td>\n",
       "      <td>0</td>\n",
       "      <td>0</td>\n",
       "      <td>0</td>\n",
       "      <td>1</td>\n",
       "      <td>1</td>\n",
       "      <td>0</td>\n",
       "      <td>0</td>\n",
       "      <td>0</td>\n",
       "      <td>0</td>\n",
       "      <td>0</td>\n",
       "    </tr>\n",
       "    <tr>\n",
       "      <th>15033</th>\n",
       "      <td>0</td>\n",
       "      <td>0</td>\n",
       "      <td>0</td>\n",
       "      <td>0</td>\n",
       "      <td>0</td>\n",
       "      <td>0</td>\n",
       "      <td>0</td>\n",
       "      <td>0</td>\n",
       "      <td>0</td>\n",
       "      <td>0</td>\n",
       "      <td>...</td>\n",
       "      <td>0</td>\n",
       "      <td>0</td>\n",
       "      <td>0</td>\n",
       "      <td>1</td>\n",
       "      <td>1</td>\n",
       "      <td>0</td>\n",
       "      <td>0</td>\n",
       "      <td>0</td>\n",
       "      <td>0</td>\n",
       "      <td>0</td>\n",
       "    </tr>\n",
       "    <tr>\n",
       "      <th>15034</th>\n",
       "      <td>1</td>\n",
       "      <td>1</td>\n",
       "      <td>1</td>\n",
       "      <td>1</td>\n",
       "      <td>1</td>\n",
       "      <td>1</td>\n",
       "      <td>0</td>\n",
       "      <td>1</td>\n",
       "      <td>1</td>\n",
       "      <td>1</td>\n",
       "      <td>...</td>\n",
       "      <td>1</td>\n",
       "      <td>0</td>\n",
       "      <td>0</td>\n",
       "      <td>1</td>\n",
       "      <td>1</td>\n",
       "      <td>1</td>\n",
       "      <td>0</td>\n",
       "      <td>0</td>\n",
       "      <td>0</td>\n",
       "      <td>0</td>\n",
       "    </tr>\n",
       "    <tr>\n",
       "      <th>15035</th>\n",
       "      <td>1</td>\n",
       "      <td>1</td>\n",
       "      <td>1</td>\n",
       "      <td>1</td>\n",
       "      <td>1</td>\n",
       "      <td>1</td>\n",
       "      <td>0</td>\n",
       "      <td>1</td>\n",
       "      <td>1</td>\n",
       "      <td>1</td>\n",
       "      <td>...</td>\n",
       "      <td>0</td>\n",
       "      <td>0</td>\n",
       "      <td>0</td>\n",
       "      <td>0</td>\n",
       "      <td>1</td>\n",
       "      <td>1</td>\n",
       "      <td>0</td>\n",
       "      <td>0</td>\n",
       "      <td>0</td>\n",
       "      <td>0</td>\n",
       "    </tr>\n",
       "  </tbody>\n",
       "</table>\n",
       "<p>15036 rows × 216 columns</p>\n",
       "</div>"
      ],
      "text/plain": [
       "       transact  onServiceConnected  bindService  attachInterface  \\\n",
       "0             0                   0            0                0   \n",
       "1             0                   0            0                0   \n",
       "2             0                   0            0                0   \n",
       "3             0                   0            0                0   \n",
       "4             0                   0            0                0   \n",
       "...         ...                 ...          ...              ...   \n",
       "15031         1                   1            1                1   \n",
       "15032         0                   0            0                0   \n",
       "15033         0                   0            0                0   \n",
       "15034         1                   1            1                1   \n",
       "15035         1                   1            1                1   \n",
       "\n",
       "       ServiceConnection  android.os.Binder  SEND_SMS  \\\n",
       "0                      0                  0         1   \n",
       "1                      0                  0         1   \n",
       "2                      0                  0         1   \n",
       "3                      0                  0         0   \n",
       "4                      0                  0         0   \n",
       "...                  ...                ...       ...   \n",
       "15031                  1                  1         0   \n",
       "15032                  0                  0         0   \n",
       "15033                  0                  0         0   \n",
       "15034                  1                  1         0   \n",
       "15035                  1                  1         0   \n",
       "\n",
       "       Ljava.lang.Class.getCanonicalName  Ljava.lang.Class.getMethods  \\\n",
       "0                                      0                            0   \n",
       "1                                      0                            0   \n",
       "2                                      0                            0   \n",
       "3                                      0                            0   \n",
       "4                                      0                            0   \n",
       "...                                  ...                          ...   \n",
       "15031                                  1                            1   \n",
       "15032                                  0                            0   \n",
       "15033                                  0                            0   \n",
       "15034                                  1                            1   \n",
       "15035                                  1                            1   \n",
       "\n",
       "       Ljava.lang.Class.cast  ...  READ_CONTACTS  DEVICE_POWER  HARDWARE_TEST  \\\n",
       "0                          0  ...              0             0              0   \n",
       "1                          0  ...              0             0              0   \n",
       "2                          0  ...              0             0              0   \n",
       "3                          1  ...              0             0              0   \n",
       "4                          0  ...              0             0              0   \n",
       "...                      ...  ...            ...           ...            ...   \n",
       "15031                      1  ...              0             0              0   \n",
       "15032                      1  ...              0             0              0   \n",
       "15033                      0  ...              0             0              0   \n",
       "15034                      1  ...              1             0              0   \n",
       "15035                      1  ...              0             0              0   \n",
       "\n",
       "       ACCESS_WIFI_STATE  WRITE_EXTERNAL_STORAGE  ACCESS_FINE_LOCATION  \\\n",
       "0                      0                       1                     0   \n",
       "1                      0                       1                     0   \n",
       "2                      0                       0                     0   \n",
       "3                      1                       1                     1   \n",
       "4                      1                       0                     1   \n",
       "...                  ...                     ...                   ...   \n",
       "15031                  1                       1                     0   \n",
       "15032                  1                       1                     0   \n",
       "15033                  1                       1                     0   \n",
       "15034                  1                       1                     1   \n",
       "15035                  0                       1                     1   \n",
       "\n",
       "       SET_WALLPAPER_HINTS  SET_PREFERRED_APPLICATIONS  WRITE_SECURE_SETTINGS  \\\n",
       "0                        0                           0                      0   \n",
       "1                        0                           0                      0   \n",
       "2                        0                           0                      0   \n",
       "3                        0                           0                      0   \n",
       "4                        0                           0                      0   \n",
       "...                    ...                         ...                    ...   \n",
       "15031                    0                           0                      0   \n",
       "15032                    0                           0                      0   \n",
       "15033                    0                           0                      0   \n",
       "15034                    0                           0                      0   \n",
       "15035                    0                           0                      0   \n",
       "\n",
       "       class  \n",
       "0          1  \n",
       "1          1  \n",
       "2          1  \n",
       "3          1  \n",
       "4          1  \n",
       "...      ...  \n",
       "15031      0  \n",
       "15032      0  \n",
       "15033      0  \n",
       "15034      0  \n",
       "15035      0  \n",
       "\n",
       "[15036 rows x 216 columns]"
      ]
     },
     "execution_count": 69,
     "metadata": {},
     "output_type": "execute_result"
    }
   ],
   "source": [
    "data"
   ]
  },
  {
   "cell_type": "markdown",
   "metadata": {},
   "source": [
    "### Búscamos cual es la otra variable tipo object"
   ]
  },
  {
   "cell_type": "code",
   "execution_count": 70,
   "metadata": {},
   "outputs": [
    {
     "name": "stdout",
     "output_type": "stream",
     "text": [
      "<class 'pandas.core.frame.DataFrame'>\n",
      "RangeIndex: 15036 entries, 0 to 15035\n",
      "Columns: 216 entries, transact to class\n",
      "dtypes: int64(215), object(1)\n",
      "memory usage: 24.8+ MB\n"
     ]
    }
   ],
   "source": [
    "data.info()"
   ]
  },
  {
   "cell_type": "code",
   "execution_count": 71,
   "metadata": {},
   "outputs": [
    {
     "name": "stdout",
     "output_type": "stream",
     "text": [
      "Columnas de tipo 'object':\n",
      "Index(['TelephonyManager.getSimCountryIso'], dtype='object')\n"
     ]
    }
   ],
   "source": [
    "columnas_object = data.select_dtypes(include='object').columns\n",
    "print(\"Columnas de tipo 'object':\")\n",
    "print(columnas_object)"
   ]
  },
  {
   "cell_type": "markdown",
   "metadata": {},
   "source": [
    "### Vemos que valores toma"
   ]
  },
  {
   "cell_type": "code",
   "execution_count": 72,
   "metadata": {},
   "outputs": [
    {
     "data": {
      "text/plain": [
       "array(['0', '1', '?', 1, 0], dtype=object)"
      ]
     },
     "execution_count": 72,
     "metadata": {},
     "output_type": "execute_result"
    }
   ],
   "source": [
    "data['TelephonyManager.getSimCountryIso'].unique()"
   ]
  },
  {
   "cell_type": "markdown",
   "metadata": {},
   "source": [
    "Viendo el carácter de esta variable podemos eliminar y ver que resultados obtenemos. Por si la necesitamos se guardará en una variable"
   ]
  },
  {
   "cell_type": "code",
   "execution_count": 73,
   "metadata": {},
   "outputs": [],
   "source": [
    "data_variable_strange = data['TelephonyManager.getSimCountryIso']"
   ]
  },
  {
   "cell_type": "code",
   "execution_count": 74,
   "metadata": {},
   "outputs": [],
   "source": [
    "data = data.drop(columns='TelephonyManager.getSimCountryIso')"
   ]
  },
  {
   "cell_type": "markdown",
   "metadata": {},
   "source": [
    "#### Comprobamos que todas las variables son numéricas"
   ]
  },
  {
   "cell_type": "code",
   "execution_count": 75,
   "metadata": {},
   "outputs": [
    {
     "name": "stdout",
     "output_type": "stream",
     "text": [
      "<class 'pandas.core.frame.DataFrame'>\n",
      "RangeIndex: 15036 entries, 0 to 15035\n",
      "Columns: 215 entries, transact to class\n",
      "dtypes: int64(215)\n",
      "memory usage: 24.7 MB\n"
     ]
    }
   ],
   "source": [
    "data.info()"
   ]
  },
  {
   "cell_type": "markdown",
   "metadata": {},
   "source": [
    "Hipótesis: todas las variables que tenemos en nuestro conjunto de datos son categóricas"
   ]
  },
  {
   "cell_type": "code",
   "execution_count": 76,
   "metadata": {},
   "outputs": [
    {
     "data": {
      "text/plain": [
       "transact                      2\n",
       "onServiceConnected            2\n",
       "bindService                   2\n",
       "attachInterface               2\n",
       "ServiceConnection             2\n",
       "                             ..\n",
       "ACCESS_FINE_LOCATION          2\n",
       "SET_WALLPAPER_HINTS           2\n",
       "SET_PREFERRED_APPLICATIONS    2\n",
       "WRITE_SECURE_SETTINGS         2\n",
       "class                         2\n",
       "Length: 215, dtype: int64"
      ]
     },
     "execution_count": 76,
     "metadata": {},
     "output_type": "execute_result"
    }
   ],
   "source": [
    "data.nunique()"
   ]
  },
  {
   "cell_type": "code",
   "execution_count": 77,
   "metadata": {},
   "outputs": [
    {
     "name": "stdout",
     "output_type": "stream",
     "text": [
      "transact                                           2\n",
      "onServiceConnected                                 2\n",
      "bindService                                        2\n",
      "attachInterface                                    2\n",
      "ServiceConnection                                  2\n",
      "android.os.Binder                                  2\n",
      "SEND_SMS                                           2\n",
      "Ljava.lang.Class.getCanonicalName                  2\n",
      "Ljava.lang.Class.getMethods                        2\n",
      "Ljava.lang.Class.cast                              2\n",
      "Ljava.net.URLDecoder                               2\n",
      "android.content.pm.Signature                       2\n",
      "android.telephony.SmsManager                       2\n",
      "READ_PHONE_STATE                                   2\n",
      "getBinder                                          2\n",
      "ClassLoader                                        2\n",
      "Landroid.content.Context.registerReceiver          2\n",
      "Ljava.lang.Class.getField                          2\n",
      "Landroid.content.Context.unregisterReceiver        2\n",
      "GET_ACCOUNTS                                       2\n",
      "RECEIVE_SMS                                        2\n",
      "Ljava.lang.Class.getDeclaredField                  2\n",
      "READ_SMS                                           2\n",
      "getCallingUid                                      2\n",
      "Ljavax.crypto.spec.SecretKeySpec                   2\n",
      "android.intent.action.BOOT_COMPLETED               2\n",
      "USE_CREDENTIALS                                    2\n",
      "MANAGE_ACCOUNTS                                    2\n",
      "android.content.pm.PackageInfo                     2\n",
      "KeySpec                                            2\n",
      "TelephonyManager.getLine1Number                    2\n",
      "DexClassLoader                                     2\n",
      "HttpGet.init                                       2\n",
      "SecretKey                                          2\n",
      "Ljava.lang.Class.getMethod                         2\n",
      "System.loadLibrary                                 2\n",
      "android.intent.action.SEND                         2\n",
      "Ljavax.crypto.Cipher                               2\n",
      "WRITE_SMS                                          2\n",
      "READ_SYNC_SETTINGS                                 2\n",
      "AUTHENTICATE_ACCOUNTS                              2\n",
      "android.telephony.gsm.SmsManager                   2\n",
      "WRITE_HISTORY_BOOKMARKS                            2\n",
      "TelephonyManager.getSubscriberId                   2\n",
      "mount                                              2\n",
      "INSTALL_PACKAGES                                   2\n",
      "Runtime.getRuntime                                 2\n",
      "CAMERA                                             2\n",
      "Ljava.lang.Object.getClass                         2\n",
      "WRITE_SYNC_SETTINGS                                2\n",
      "READ_HISTORY_BOOKMARKS                             2\n",
      "Ljava.lang.Class.forName                           2\n",
      "INTERNET                                           2\n",
      "android.intent.action.PACKAGE_REPLACED             2\n",
      "Binder                                             2\n",
      "android.intent.action.SEND_MULTIPLE                2\n",
      "RECORD_AUDIO                                       2\n",
      "IBinder                                            2\n",
      "android.os.IBinder                                 2\n",
      "createSubprocess                                   2\n",
      "NFC                                                2\n",
      "ACCESS_LOCATION_EXTRA_COMMANDS                     2\n",
      "URLClassLoader                                     2\n",
      "WRITE_APN_SETTINGS                                 2\n",
      "abortBroadcast                                     2\n",
      "BIND_REMOTEVIEWS                                   2\n",
      "android.intent.action.TIME_SET                     2\n",
      "READ_PROFILE                                       2\n",
      "TelephonyManager.getDeviceId                       2\n",
      "MODIFY_AUDIO_SETTINGS                              2\n",
      "getCallingPid                                      2\n",
      "READ_SYNC_STATS                                    2\n",
      "BROADCAST_STICKY                                   2\n",
      "android.intent.action.PACKAGE_REMOVED              2\n",
      "android.intent.action.TIMEZONE_CHANGED             2\n",
      "WAKE_LOCK                                          2\n",
      "RECEIVE_BOOT_COMPLETED                             2\n",
      "RESTART_PACKAGES                                   2\n",
      "Ljava.lang.Class.getPackage                        2\n",
      "chmod                                              2\n",
      "Ljava.lang.Class.getDeclaredClasses                2\n",
      "android.intent.action.ACTION_POWER_DISCONNECTED    2\n",
      "android.intent.action.PACKAGE_ADDED                2\n",
      "PathClassLoader                                    2\n",
      "TelephonyManager.getSimSerialNumber                2\n",
      "Runtime.load                                       2\n",
      "TelephonyManager.getCallState                      2\n",
      "BLUETOOTH                                          2\n",
      "READ_CALENDAR                                      2\n",
      "READ_CALL_LOG                                      2\n",
      "SUBSCRIBED_FEEDS_WRITE                             2\n",
      "READ_EXTERNAL_STORAGE                              2\n",
      "sendMultipartTextMessage                           2\n",
      "PackageInstaller                                   2\n",
      "VIBRATE                                            2\n",
      "remount                                            2\n",
      "android.intent.action.ACTION_SHUTDOWN              2\n",
      "sendDataMessage                                    2\n",
      "ACCESS_NETWORK_STATE                               2\n",
      "chown                                              2\n",
      "HttpPost.init                                      2\n",
      "Ljava.lang.Class.getClasses                        2\n",
      "SUBSCRIBED_FEEDS_READ                              2\n",
      "TelephonyManager.isNetworkRoaming                  2\n",
      "CHANGE_WIFI_MULTICAST_STATE                        2\n",
      "WRITE_CALENDAR                                     2\n",
      "android.intent.action.PACKAGE_DATA_CLEARED         2\n",
      "MASTER_CLEAR                                       2\n",
      "HttpUriRequest                                     2\n",
      "UPDATE_DEVICE_STATS                                2\n",
      "WRITE_CALL_LOG                                     2\n",
      "DELETE_PACKAGES                                    2\n",
      "GET_TASKS                                          2\n",
      "GLOBAL_SEARCH                                      2\n",
      "DELETE_CACHE_FILES                                 2\n",
      "WRITE_USER_DICTIONARY                              2\n",
      "android.intent.action.PACKAGE_CHANGED              2\n",
      "android.intent.action.NEW_OUTGOING_CALL            2\n",
      "REORDER_TASKS                                      2\n",
      "WRITE_PROFILE                                      2\n",
      "SET_WALLPAPER                                      2\n",
      "BIND_INPUT_METHOD                                  2\n",
      "divideMessage                                      2\n",
      "READ_SOCIAL_STREAM                                 2\n",
      "READ_USER_DICTIONARY                               2\n",
      "PROCESS_OUTGOING_CALLS                             2\n",
      "CALL_PRIVILEGED                                    2\n",
      "Runtime.exec                                       2\n",
      "BIND_WALLPAPER                                     2\n",
      "RECEIVE_WAP_PUSH                                   2\n",
      "DUMP                                               2\n",
      "BATTERY_STATS                                      2\n",
      "ACCESS_COARSE_LOCATION                             2\n",
      "SET_TIME                                           2\n",
      "android.intent.action.SENDTO                       2\n",
      "WRITE_SOCIAL_STREAM                                2\n",
      "WRITE_SETTINGS                                     2\n",
      "REBOOT                                             2\n",
      "BLUETOOTH_ADMIN                                    2\n",
      "TelephonyManager.getNetworkOperator                2\n",
      "/system/bin                                        2\n",
      "MessengerService                                   2\n",
      "BIND_DEVICE_ADMIN                                  2\n",
      "WRITE_GSERVICES                                    2\n",
      "IRemoteService                                     2\n",
      "KILL_BACKGROUND_PROCESSES                          2\n",
      "SET_ALARM                                          2\n",
      "ACCOUNT_MANAGER                                    2\n",
      "/system/app                                        2\n",
      "android.intent.action.CALL                         2\n",
      "STATUS_BAR                                         2\n",
      "TelephonyManager.getSimOperator                    2\n",
      "PERSISTENT_ACTIVITY                                2\n",
      "CHANGE_NETWORK_STATE                               2\n",
      "onBind                                             2\n",
      "Process.start                                      2\n",
      "android.intent.action.SCREEN_ON                    2\n",
      "Context.bindService                                2\n",
      "RECEIVE_MMS                                        2\n",
      "SET_TIME_ZONE                                      2\n",
      "android.intent.action.BATTERY_OKAY                 2\n",
      "CONTROL_LOCATION_UPDATES                           2\n",
      "BROADCAST_WAP_PUSH                                 2\n",
      "BIND_ACCESSIBILITY_SERVICE                         2\n",
      "ADD_VOICEMAIL                                      2\n",
      "CALL_PHONE                                         2\n",
      "ProcessBuilder                                     2\n",
      "BIND_APPWIDGET                                     2\n",
      "FLASHLIGHT                                         2\n",
      "READ_LOGS                                          2\n",
      "Ljava.lang.Class.getResource                       2\n",
      "defineClass                                        2\n",
      "SET_PROCESS_LIMIT                                  2\n",
      "android.intent.action.PACKAGE_RESTARTED            2\n",
      "MOUNT_UNMOUNT_FILESYSTEMS                          2\n",
      "BIND_TEXT_SERVICE                                  2\n",
      "INSTALL_LOCATION_PROVIDER                          2\n",
      "android.intent.action.CALL_BUTTON                  2\n",
      "android.intent.action.SCREEN_OFF                   2\n",
      "findClass                                          2\n",
      "SYSTEM_ALERT_WINDOW                                2\n",
      "MOUNT_FORMAT_FILESYSTEMS                           2\n",
      "CHANGE_CONFIGURATION                               2\n",
      "CLEAR_APP_USER_DATA                                2\n",
      "intent.action.RUN                                  2\n",
      "android.intent.action.SET_WALLPAPER                2\n",
      "CHANGE_WIFI_STATE                                  2\n",
      "READ_FRAME_BUFFER                                  2\n",
      "ACCESS_SURFACE_FLINGER                             2\n",
      "Runtime.loadLibrary                                2\n",
      "BROADCAST_SMS                                      2\n",
      "EXPAND_STATUS_BAR                                  2\n",
      "INTERNAL_SYSTEM_WINDOW                             2\n",
      "android.intent.action.BATTERY_LOW                  2\n",
      "SET_ACTIVITY_WATCHER                               2\n",
      "WRITE_CONTACTS                                     2\n",
      "android.intent.action.ACTION_POWER_CONNECTED       2\n",
      "BIND_VPN_SERVICE                                   2\n",
      "DISABLE_KEYGUARD                                   2\n",
      "ACCESS_MOCK_LOCATION                               2\n",
      "GET_PACKAGE_SIZE                                   2\n",
      "MODIFY_PHONE_STATE                                 2\n",
      "CHANGE_COMPONENT_ENABLED_STATE                     2\n",
      "CLEAR_APP_CACHE                                    2\n",
      "SET_ORIENTATION                                    2\n",
      "READ_CONTACTS                                      2\n",
      "DEVICE_POWER                                       2\n",
      "HARDWARE_TEST                                      2\n",
      "ACCESS_WIFI_STATE                                  2\n",
      "WRITE_EXTERNAL_STORAGE                             2\n",
      "ACCESS_FINE_LOCATION                               2\n",
      "SET_WALLPAPER_HINTS                                2\n",
      "SET_PREFERRED_APPLICATIONS                         2\n",
      "WRITE_SECURE_SETTINGS                              2\n",
      "class                                              2\n",
      "dtype: int64\n"
     ]
    }
   ],
   "source": [
    "with pd.option_context('display.max_rows', None, 'display.max_columns', None):\n",
    "    print(data.nunique())"
   ]
  },
  {
   "cell_type": "markdown",
   "metadata": {},
   "source": [
    "Se reafirma nuestra hipótesis, por lo que, no tenemos que analizar si nuestro conjunto de datos tiene outliers. Lo que si que deberíamos ver si hay datos faltantes."
   ]
  },
  {
   "cell_type": "markdown",
   "metadata": {},
   "source": [
    "#### Datos faltantes"
   ]
  },
  {
   "cell_type": "code",
   "execution_count": 78,
   "metadata": {},
   "outputs": [
    {
     "name": "stdout",
     "output_type": "stream",
     "text": [
      "Columnas con valores nulos:\n",
      "Series([], dtype: int64)\n"
     ]
    }
   ],
   "source": [
    "missing_values = data.isnull().sum()\n",
    "columns_with_missing_values = missing_values[missing_values > 0]\n",
    "print(\"Columnas con valores nulos:\")\n",
    "print(columns_with_missing_values)"
   ]
  },
  {
   "cell_type": "markdown",
   "metadata": {},
   "source": [
    "Por lo que se puede apreciar no hay datos faltantes en el conjunto de datos. "
   ]
  },
  {
   "cell_type": "markdown",
   "metadata": {},
   "source": [
    "Como nuestras variables son todas categóricas no se tiene que normalizar nuestro conjunto de datos."
   ]
  },
  {
   "cell_type": "markdown",
   "metadata": {},
   "source": [
    "#### Duplicados"
   ]
  },
  {
   "cell_type": "code",
   "execution_count": 79,
   "metadata": {},
   "outputs": [
    {
     "data": {
      "text/plain": [
       "7786"
      ]
     },
     "execution_count": 79,
     "metadata": {},
     "output_type": "execute_result"
    }
   ],
   "source": [
    "data.duplicated().sum()"
   ]
  },
  {
   "cell_type": "markdown",
   "metadata": {},
   "source": [
    "Se deberían de eleminar los datos que están duplicados. Por lo que, vamos a hacerlo. Pero deberíamos tener en cuenta que a lo mejor no son duplicados, sino diferentes apps que contienen la misma información. Por lo que se recomienta hacer un análisis posteriori con todo el número de observaciones."
   ]
  },
  {
   "cell_type": "code",
   "execution_count": 80,
   "metadata": {},
   "outputs": [
    {
     "name": "stdout",
     "output_type": "stream",
     "text": [
      "Número de duplicados después de eliminar: 0\n"
     ]
    }
   ],
   "source": [
    "data = data.drop_duplicates()\n",
    "print(\"Número de duplicados después de eliminar:\", data.duplicated().sum())"
   ]
  },
  {
   "cell_type": "code",
   "execution_count": 81,
   "metadata": {},
   "outputs": [
    {
     "data": {
      "text/plain": [
       "5530"
      ]
     },
     "execution_count": 81,
     "metadata": {},
     "output_type": "execute_result"
    }
   ],
   "source": [
    "len(data[data['class']==0])"
   ]
  },
  {
   "cell_type": "code",
   "execution_count": 82,
   "metadata": {},
   "outputs": [
    {
     "data": {
      "text/plain": [
       "1720"
      ]
     },
     "execution_count": 82,
     "metadata": {},
     "output_type": "execute_result"
    }
   ],
   "source": [
    "len(data[data['class']==1])"
   ]
  },
  {
   "cell_type": "markdown",
   "metadata": {},
   "source": [
    "#### Técnica de filtro Información Mutua"
   ]
  },
  {
   "cell_type": "code",
   "execution_count": 83,
   "metadata": {},
   "outputs": [],
   "source": [
    "labels = data['class']\n",
    "features = data.drop(columns='class')"
   ]
  },
  {
   "cell_type": "code",
   "execution_count": 84,
   "metadata": {},
   "outputs": [
    {
     "name": "stdout",
     "output_type": "stream",
     "text": [
      "Características seleccionadas:\n",
      "Index(['transact', 'onServiceConnected', 'bindService', 'attachInterface',\n",
      "       'ServiceConnection', 'android.os.Binder'],\n",
      "      dtype='object')\n"
     ]
    }
   ],
   "source": [
    "from sklearn.feature_selection import SelectKBest\n",
    "from sklearn.feature_selection import mutual_info_classif\n",
    "k = 6  # ajusta según tus necesidades\n",
    "selector = SelectKBest(mutual_info_classif, k=k)\n",
    "X_new = selector.fit_transform(features, labels)\n",
    "\n",
    "# Obtener las características seleccionadas\n",
    "selected_features = features.columns[selector.get_support()]\n",
    "\n",
    "# Imprimir las características seleccionadas\n",
    "print(\"Características seleccionadas:\")\n",
    "print(selected_features)"
   ]
  },
  {
   "cell_type": "code",
   "execution_count": 85,
   "metadata": {},
   "outputs": [
    {
     "name": "stderr",
     "output_type": "stream",
     "text": [
      "C:\\Users\\estre\\AppData\\Local\\Temp\\ipykernel_5376\\328978083.py:2: SettingWithCopyWarning: \n",
      "A value is trying to be set on a copy of a slice from a DataFrame.\n",
      "Try using .loc[row_indexer,col_indexer] = value instead\n",
      "\n",
      "See the caveats in the documentation: https://pandas.pydata.org/pandas-docs/stable/user_guide/indexing.html#returning-a-view-versus-a-copy\n",
      "  data_informacion['class'] = data['class']\n"
     ]
    },
    {
     "data": {
      "text/html": [
       "<div>\n",
       "<style scoped>\n",
       "    .dataframe tbody tr th:only-of-type {\n",
       "        vertical-align: middle;\n",
       "    }\n",
       "\n",
       "    .dataframe tbody tr th {\n",
       "        vertical-align: top;\n",
       "    }\n",
       "\n",
       "    .dataframe thead th {\n",
       "        text-align: right;\n",
       "    }\n",
       "</style>\n",
       "<table border=\"1\" class=\"dataframe\">\n",
       "  <thead>\n",
       "    <tr style=\"text-align: right;\">\n",
       "      <th></th>\n",
       "      <th>transact</th>\n",
       "      <th>onServiceConnected</th>\n",
       "      <th>bindService</th>\n",
       "      <th>attachInterface</th>\n",
       "      <th>ServiceConnection</th>\n",
       "      <th>android.os.Binder</th>\n",
       "      <th>class</th>\n",
       "    </tr>\n",
       "  </thead>\n",
       "  <tbody>\n",
       "    <tr>\n",
       "      <th>0</th>\n",
       "      <td>0</td>\n",
       "      <td>0</td>\n",
       "      <td>0</td>\n",
       "      <td>0</td>\n",
       "      <td>0</td>\n",
       "      <td>0</td>\n",
       "      <td>1</td>\n",
       "    </tr>\n",
       "    <tr>\n",
       "      <th>1</th>\n",
       "      <td>0</td>\n",
       "      <td>0</td>\n",
       "      <td>0</td>\n",
       "      <td>0</td>\n",
       "      <td>0</td>\n",
       "      <td>0</td>\n",
       "      <td>1</td>\n",
       "    </tr>\n",
       "    <tr>\n",
       "      <th>2</th>\n",
       "      <td>0</td>\n",
       "      <td>0</td>\n",
       "      <td>0</td>\n",
       "      <td>0</td>\n",
       "      <td>0</td>\n",
       "      <td>0</td>\n",
       "      <td>1</td>\n",
       "    </tr>\n",
       "    <tr>\n",
       "      <th>3</th>\n",
       "      <td>0</td>\n",
       "      <td>0</td>\n",
       "      <td>0</td>\n",
       "      <td>0</td>\n",
       "      <td>0</td>\n",
       "      <td>0</td>\n",
       "      <td>1</td>\n",
       "    </tr>\n",
       "    <tr>\n",
       "      <th>4</th>\n",
       "      <td>0</td>\n",
       "      <td>0</td>\n",
       "      <td>0</td>\n",
       "      <td>0</td>\n",
       "      <td>0</td>\n",
       "      <td>0</td>\n",
       "      <td>1</td>\n",
       "    </tr>\n",
       "  </tbody>\n",
       "</table>\n",
       "</div>"
      ],
      "text/plain": [
       "   transact  onServiceConnected  bindService  attachInterface  \\\n",
       "0         0                   0            0                0   \n",
       "1         0                   0            0                0   \n",
       "2         0                   0            0                0   \n",
       "3         0                   0            0                0   \n",
       "4         0                   0            0                0   \n",
       "\n",
       "   ServiceConnection  android.os.Binder  class  \n",
       "0                  0                  0      1  \n",
       "1                  0                  0      1  \n",
       "2                  0                  0      1  \n",
       "3                  0                  0      1  \n",
       "4                  0                  0      1  "
      ]
     },
     "execution_count": 85,
     "metadata": {},
     "output_type": "execute_result"
    }
   ],
   "source": [
    "data_informacion = data[selected_features]\n",
    "data_informacion['class'] = data['class']\n",
    "data_informacion.head()"
   ]
  },
  {
   "cell_type": "markdown",
   "metadata": {},
   "source": [
    "Entrenamiento de los modelos"
   ]
  },
  {
   "cell_type": "markdown",
   "metadata": {},
   "source": [
    "Primero obtenemos el conjunto de entrenamiento y prueba."
   ]
  },
  {
   "cell_type": "code",
   "execution_count": 86,
   "metadata": {},
   "outputs": [],
   "source": [
    "from sklearn.model_selection import train_test_split\n",
    "train_data, test_data = train_test_split(data_informacion, test_size=0.2, random_state=123)"
   ]
  },
  {
   "cell_type": "markdown",
   "metadata": {},
   "source": [
    "Contruimos un conjunto de entrenamiento balanceado"
   ]
  },
  {
   "cell_type": "code",
   "execution_count": 87,
   "metadata": {},
   "outputs": [],
   "source": [
    "from sklearn.utils import resample\n",
    "clase_0 = train_data[train_data['class']== 0]\n",
    "clase_1 = train_data[train_data['class']== 1]\n",
    "# Submuestrea la clase sobrerrepresentada (en este caso, la clase 0).\n",
    "class_0_subsampled = resample(clase_0, replace=False, n_samples=len(clase_1), random_state=123)\n",
    "\n",
    "# Combina las clases equitativamente.\n",
    "data_train = pd.concat([clase_1, class_0_subsampled])"
   ]
  },
  {
   "cell_type": "code",
   "execution_count": 88,
   "metadata": {},
   "outputs": [
    {
     "data": {
      "text/plain": [
       "1372"
      ]
     },
     "execution_count": 88,
     "metadata": {},
     "output_type": "execute_result"
    }
   ],
   "source": [
    "len(data_train[data_train['class']==0])"
   ]
  },
  {
   "cell_type": "code",
   "execution_count": 89,
   "metadata": {},
   "outputs": [
    {
     "data": {
      "text/plain": [
       "1372"
      ]
     },
     "execution_count": 89,
     "metadata": {},
     "output_type": "execute_result"
    }
   ],
   "source": [
    "len(data_train[data_train['class']==1])"
   ]
  },
  {
   "cell_type": "code",
   "execution_count": 90,
   "metadata": {},
   "outputs": [],
   "source": [
    "labels_train = data_train['class']\n",
    "features_train = data_train.drop(columns='class')\n",
    "labels_test = test_data['class']\n",
    "features_test = test_data.drop(columns='class')"
   ]
  },
  {
   "cell_type": "markdown",
   "metadata": {},
   "source": [
    "#### Implementamos cuántica"
   ]
  },
  {
   "cell_type": "code",
   "execution_count": 91,
   "metadata": {},
   "outputs": [
    {
     "name": "stdout",
     "output_type": "stream",
     "text": [
      "Requirement already satisfied: pylatexenc in c:\\users\\estre\\anaconda3\\lib\\site-packages (2.10)\n"
     ]
    }
   ],
   "source": [
    "!pip install pylatexenc"
   ]
  },
  {
   "cell_type": "code",
   "execution_count": 92,
   "metadata": {},
   "outputs": [
    {
     "name": "stdout",
     "output_type": "stream",
     "text": [
      "Requirement already satisfied: openpyxl in c:\\users\\estre\\anaconda3\\lib\\site-packages (3.0.10)\n",
      "Requirement already satisfied: et_xmlfile in c:\\users\\estre\\anaconda3\\lib\\site-packages (from openpyxl) (1.1.0)\n"
     ]
    }
   ],
   "source": [
    "!pip install openpyxl"
   ]
  },
  {
   "cell_type": "code",
   "execution_count": 93,
   "metadata": {},
   "outputs": [
    {
     "name": "stdout",
     "output_type": "stream",
     "text": [
      "Requirement already satisfied: qiskit in c:\\users\\estre\\anaconda3\\lib\\site-packages (1.1.0)\n",
      "Requirement already satisfied: rustworkx>=0.14.0 in c:\\users\\estre\\anaconda3\\lib\\site-packages (from qiskit) (0.14.2)\n",
      "Requirement already satisfied: numpy<3,>=1.17 in c:\\users\\estre\\anaconda3\\lib\\site-packages (from qiskit) (1.24.3)\n",
      "Requirement already satisfied: scipy>=1.5 in c:\\users\\estre\\anaconda3\\lib\\site-packages (from qiskit) (1.13.1)\n",
      "Requirement already satisfied: sympy>=1.3 in c:\\users\\estre\\anaconda3\\lib\\site-packages (from qiskit) (1.12)\n",
      "Requirement already satisfied: dill>=0.3 in c:\\users\\estre\\anaconda3\\lib\\site-packages (from qiskit) (0.3.7)\n",
      "Requirement already satisfied: python-dateutil>=2.8.0 in c:\\users\\estre\\appdata\\roaming\\python\\python311\\site-packages (from qiskit) (2.8.2)\n",
      "Requirement already satisfied: stevedore>=3.0.0 in c:\\users\\estre\\anaconda3\\lib\\site-packages (from qiskit) (5.2.0)\n",
      "Requirement already satisfied: typing-extensions in c:\\users\\estre\\anaconda3\\lib\\site-packages (from qiskit) (4.9.0)\n",
      "Requirement already satisfied: symengine>=0.11 in c:\\users\\estre\\anaconda3\\lib\\site-packages (from qiskit) (0.11.0)\n",
      "Requirement already satisfied: six>=1.5 in c:\\users\\estre\\appdata\\roaming\\python\\python311\\site-packages (from python-dateutil>=2.8.0->qiskit) (1.16.0)\n",
      "Requirement already satisfied: pbr!=2.1.0,>=2.0.0 in c:\\users\\estre\\anaconda3\\lib\\site-packages (from stevedore>=3.0.0->qiskit) (6.0.0)\n",
      "Requirement already satisfied: mpmath>=0.19 in c:\\users\\estre\\anaconda3\\lib\\site-packages (from sympy>=1.3->qiskit) (1.3.0)\n"
     ]
    }
   ],
   "source": [
    "!pip install qiskit"
   ]
  },
  {
   "cell_type": "markdown",
   "metadata": {},
   "source": [
    "Implementamos el SVC"
   ]
  },
  {
   "cell_type": "code",
   "execution_count": 94,
   "metadata": {},
   "outputs": [],
   "source": [
    "from sklearn.svm import SVC\n",
    "from sklearn.metrics import confusion_matrix\n",
    "\n",
    "svc = SVC()\n",
    "_ = svc.fit(features_train, labels_train)  "
   ]
  },
  {
   "cell_type": "code",
   "execution_count": 95,
   "metadata": {},
   "outputs": [
    {
     "data": {
      "image/png": "[encoded data removed]",
      "text/plain": [
       "<Figure size 1200x600 with 2 Axes>"
      ]
     },
     "metadata": {},
     "output_type": "display_data"
    }
   ],
   "source": [
    "predictions = svc.predict(features_test)\n",
    "import matplotlib.pyplot as plot\n",
    "import seaborn as sns\n",
    "confusion = confusion_matrix(labels_test, predictions)\n",
    "sns.heatmap(confusion, annot = True, cmap = \"Blues\", fmt = \"d\")\n",
    "plot.xlabel(\"Predict values\")\n",
    "plot.ylabel(\"Real values\")\n",
    "plot.title(\"Confusion Matrix (SVC)\")\n",
    "plot.show()"
   ]
  },
  {
   "cell_type": "code",
   "execution_count": 96,
   "metadata": {},
   "outputs": [
    {
     "name": "stdout",
     "output_type": "stream",
     "text": [
      "Classical SVC on the training dataset: 0.80\n",
      "Classical SVC on the test dataset:     0.78\n"
     ]
    }
   ],
   "source": [
    "train_score_c4 = svc.score(features_train, labels_train)\n",
    "test_score_c4 = svc.score(features_test, labels_test)\n",
    "\n",
    "\n",
    "print(f\"Classical SVC on the training dataset: {train_score_c4:.2f}\")\n",
    "print(f\"Classical SVC on the test dataset:     {test_score_c4:.2f}\")"
   ]
  },
  {
   "cell_type": "code",
   "execution_count": 97,
   "metadata": {},
   "outputs": [
    {
     "name": "stdout",
     "output_type": "stream",
     "text": [
      "              precision    recall  f1-score   support\n",
      "\n",
      "           0   0.959763  0.735935  0.833077      1102\n",
      "           1   0.519008  0.902299  0.658972       348\n",
      "\n",
      "    accuracy                       0.775862      1450\n",
      "   macro avg   0.739386  0.819117  0.746024      1450\n",
      "weighted avg   0.853982  0.775862  0.791291      1450\n",
      "\n"
     ]
    }
   ],
   "source": [
    "from sklearn.metrics import classification_report\n",
    "print(classification_report(labels_test, predictions, digits=6))"
   ]
  },
  {
   "cell_type": "markdown",
   "metadata": {},
   "source": [
    "VQC"
   ]
  },
  {
   "cell_type": "code",
   "execution_count": 40,
   "metadata": {},
   "outputs": [],
   "source": [
    "features = data_informacion.drop(columns='class')"
   ]
  },
  {
   "cell_type": "code",
   "execution_count": 41,
   "metadata": {},
   "outputs": [],
   "source": [
    "num_features = features.shape[1]"
   ]
  },
  {
   "cell_type": "markdown",
   "metadata": {},
   "source": [
    "## SPSA"
   ]
  },
  {
   "cell_type": "code",
   "execution_count": 42,
   "metadata": {},
   "outputs": [],
   "source": [
    "from qiskit_algorithms.optimizers import SPSA\n",
    "optimizer = SPSA(maxiter=100)"
   ]
  },
  {
   "cell_type": "code",
   "execution_count": 43,
   "metadata": {},
   "outputs": [
    {
     "data": {
      "image/png": "[encoded data removed]",
      "text/plain": [
       "<Figure size 956.385x535.111 with 1 Axes>"
      ]
     },
     "execution_count": 43,
     "metadata": {},
     "output_type": "execute_result"
    }
   ],
   "source": [
    "from qiskit.circuit.library import RealAmplitudes\n",
    "ansatz = RealAmplitudes(num_qubits=num_features, reps=2)\n",
    "ansatz.decompose().draw(output=\"mpl\", fold=20)"
   ]
  },
  {
   "cell_type": "code",
   "execution_count": 44,
   "metadata": {},
   "outputs": [],
   "source": [
    "from matplotlib import pyplot as plt\n",
    "from IPython.display import clear_output\n",
    "\n",
    "objective_func_vals = []\n",
    "plt.rcParams[\"figure.figsize\"] = (12, 6)\n",
    "\n",
    "\n",
    "def callback_graph(weights, obj_func_eval):\n",
    "    clear_output(wait=True)\n",
    "    objective_func_vals.append(obj_func_eval)\n",
    "    plt.title(\"Objective function value against iteration\")\n",
    "    plt.xlabel(\"Iteration\")\n",
    "    plt.ylabel(\"Objective function value\")\n",
    "    plt.plot(range(len(objective_func_vals)), objective_func_vals)\n",
    "    plt.show()"
   ]
  },
  {
   "cell_type": "code",
   "execution_count": 45,
   "metadata": {},
   "outputs": [],
   "source": [
    "import numpy as np\n",
    "X_train_np = np.array(features_train.values)\n",
    "y_train_np = labels_train.values"
   ]
  },
  {
   "cell_type": "code",
   "execution_count": 46,
   "metadata": {},
   "outputs": [
    {
     "data": {
      "image/png": "[encoded data removed]",
      "text/plain": [
       "<Figure size 454.719x535.111 with 1 Axes>"
      ]
     },
     "execution_count": 46,
     "metadata": {},
     "output_type": "execute_result"
    }
   ],
   "source": [
    "from qiskit.circuit.library import ZFeatureMap\n",
    "import matplotlib.pyplot as plt\n",
    "num_features = features.shape[1]\n",
    "feature_map = ZFeatureMap(feature_dimension=num_features, reps=2)\n",
    "feature_map.decompose().draw(output=\"mpl\", fold=20)"
   ]
  },
  {
   "cell_type": "code",
   "execution_count": 47,
   "metadata": {},
   "outputs": [],
   "source": [
    "from qiskit.primitives import Sampler\n",
    "\n",
    "sampler = Sampler()"
   ]
  },
  {
   "cell_type": "code",
   "execution_count": 48,
   "metadata": {},
   "outputs": [
    {
     "name": "stdout",
     "output_type": "stream",
     "text": [
      "Requirement already satisfied: qiskit-machine-learning in c:\\users\\estre\\anaconda3\\lib\\site-packages (0.7.2)\n",
      "Requirement already satisfied: qiskit>=0.44 in c:\\users\\estre\\anaconda3\\lib\\site-packages (from qiskit-machine-learning) (1.1.0)\n",
      "Requirement already satisfied: qiskit-algorithms>=0.2.0 in c:\\users\\estre\\anaconda3\\lib\\site-packages (from qiskit-machine-learning) (0.3.0)\n",
      "Requirement already satisfied: scipy>=1.4 in c:\\users\\estre\\anaconda3\\lib\\site-packages (from qiskit-machine-learning) (1.13.1)\n",
      "Requirement already satisfied: numpy>=1.17 in c:\\users\\estre\\anaconda3\\lib\\site-packages (from qiskit-machine-learning) (1.24.3)\n",
      "Requirement already satisfied: psutil>=5 in c:\\users\\estre\\appdata\\roaming\\python\\python311\\site-packages (from qiskit-machine-learning) (5.9.8)\n",
      "Requirement already satisfied: scikit-learn>=1.2.0 in c:\\users\\estre\\anaconda3\\lib\\site-packages (from qiskit-machine-learning) (1.2.2)\n",
      "Requirement already satisfied: fastdtw in c:\\users\\estre\\anaconda3\\lib\\site-packages (from qiskit-machine-learning) (0.3.4)\n",
      "Requirement already satisfied: setuptools>=40.1.0 in c:\\users\\estre\\anaconda3\\lib\\site-packages (from qiskit-machine-learning) (68.2.2)\n",
      "Requirement already satisfied: dill>=0.3.4 in c:\\users\\estre\\anaconda3\\lib\\site-packages (from qiskit-machine-learning) (0.3.7)\n",
      "Requirement already satisfied: rustworkx>=0.14.0 in c:\\users\\estre\\anaconda3\\lib\\site-packages (from qiskit>=0.44->qiskit-machine-learning) (0.14.2)\n",
      "Requirement already satisfied: sympy>=1.3 in c:\\users\\estre\\anaconda3\\lib\\site-packages (from qiskit>=0.44->qiskit-machine-learning) (1.12)\n",
      "Requirement already satisfied: python-dateutil>=2.8.0 in c:\\users\\estre\\appdata\\roaming\\python\\python311\\site-packages (from qiskit>=0.44->qiskit-machine-learning) (2.8.2)\n",
      "Requirement already satisfied: stevedore>=3.0.0 in c:\\users\\estre\\anaconda3\\lib\\site-packages (from qiskit>=0.44->qiskit-machine-learning) (5.2.0)\n",
      "Requirement already satisfied: typing-extensions in c:\\users\\estre\\anaconda3\\lib\\site-packages (from qiskit>=0.44->qiskit-machine-learning) (4.9.0)\n",
      "Requirement already satisfied: symengine>=0.11 in c:\\users\\estre\\anaconda3\\lib\\site-packages (from qiskit>=0.44->qiskit-machine-learning) (0.11.0)\n",
      "Requirement already satisfied: joblib>=1.1.1 in c:\\users\\estre\\anaconda3\\lib\\site-packages (from scikit-learn>=1.2.0->qiskit-machine-learning) (1.2.0)\n",
      "Requirement already satisfied: threadpoolctl>=2.0.0 in c:\\users\\estre\\anaconda3\\lib\\site-packages (from scikit-learn>=1.2.0->qiskit-machine-learning) (2.2.0)\n",
      "Requirement already satisfied: six>=1.5 in c:\\users\\estre\\appdata\\roaming\\python\\python311\\site-packages (from python-dateutil>=2.8.0->qiskit>=0.44->qiskit-machine-learning) (1.16.0)\n",
      "Requirement already satisfied: pbr!=2.1.0,>=2.0.0 in c:\\users\\estre\\anaconda3\\lib\\site-packages (from stevedore>=3.0.0->qiskit>=0.44->qiskit-machine-learning) (6.0.0)\n",
      "Requirement already satisfied: mpmath>=0.19 in c:\\users\\estre\\anaconda3\\lib\\site-packages (from sympy>=1.3->qiskit>=0.44->qiskit-machine-learning) (1.3.0)\n"
     ]
    }
   ],
   "source": [
    "!pip install qiskit-machine-learning"
   ]
  },
  {
   "cell_type": "code",
   "execution_count": 49,
   "metadata": {},
   "outputs": [
    {
     "data": {
      "image/png": "[encoded data removed]",
      "text/plain": [
       "<Figure size 1200x600 with 1 Axes>"
      ]
     },
     "metadata": {},
     "output_type": "display_data"
    },
    {
     "name": "stdout",
     "output_type": "stream",
     "text": [
      "Training time: 7761 seconds\n"
     ]
    }
   ],
   "source": [
    "import time\n",
    "from qiskit_machine_learning.algorithms.classifiers import VQC\n",
    "\n",
    "vqc = VQC(\n",
    "    feature_map=feature_map,\n",
    "    sampler=sampler,\n",
    "    ansatz=ansatz,\n",
    "    optimizer=optimizer,\n",
    "    callback= callback_graph,\n",
    ")\n",
    "\n",
    "objective_func_vals = []\n",
    "\n",
    "start = time.time()\n",
    "vqc.fit(X_train_np, y_train_np)\n",
    "elapsed = time.time() - start\n",
    "\n",
    "print(f\"Training time: {round(elapsed)} seconds\")"
   ]
  },
  {
   "cell_type": "code",
   "execution_count": 50,
   "metadata": {},
   "outputs": [],
   "source": [
    "X_test_np = np.array(features_test.values)\n",
    "y_test_np = labels_test.values"
   ]
  },
  {
   "cell_type": "code",
   "execution_count": 51,
   "metadata": {},
   "outputs": [
    {
     "data": {
      "text/plain": [
       "<sklearn.metrics._plot.confusion_matrix.ConfusionMatrixDisplay at 0x2669201c990>"
      ]
     },
     "execution_count": 51,
     "metadata": {},
     "output_type": "execute_result"
    },
    {
     "data": {
      "image/png": "[encoded data removed]",
      "text/plain": [
       "<Figure size 1200x600 with 2 Axes>"
      ]
     },
     "metadata": {},
     "output_type": "display_data"
    }
   ],
   "source": [
    "import matplotlib.pyplot as plot\n",
    "from sklearn.metrics import confusion_matrix\n",
    "q_predictions = vqc.predict(X_test_np)\n",
    "confusion2 = confusion_matrix(y_test_np, q_predictions)\n",
    "from sklearn.metrics import ConfusionMatrixDisplay\n",
    "ConfusionMatrixDisplay(confusion2).plot()\n",
    "#sns.heatmap(confusion2, annot = True, cmap = \"Blues\", fmt = \"d\")\n",
    "#plot.xlabel(\"Predict values\")\n",
    "#plot.ylabel(\"Real values\")\n",
    "#plot.title(\"Confusion Matrix (VQC)\")\n",
    "#plot.show()"
   ]
  },
  {
   "cell_type": "code",
   "execution_count": 52,
   "metadata": {},
   "outputs": [
    {
     "name": "stdout",
     "output_type": "stream",
     "text": [
      "Quantum VQC on the training dataset: 0.78\n",
      "Quantum VQC on the test dataset:     0.72\n"
     ]
    }
   ],
   "source": [
    "train_score_q4 = vqc.score(X_train_np, y_train_np)\n",
    "test_score_q4 = vqc.score(X_test_np, y_test_np)\n",
    "\n",
    "print(f\"Quantum VQC on the training dataset: {train_score_q4:.2f}\")\n",
    "print(f\"Quantum VQC on the test dataset:     {test_score_q4:.2f}\")"
   ]
  },
  {
   "cell_type": "code",
   "execution_count": 53,
   "metadata": {},
   "outputs": [
    {
     "name": "stdout",
     "output_type": "stream",
     "text": [
      "              precision    recall  f1-score   support\n",
      "\n",
      "           0   0.964960  0.649728  0.776573      1102\n",
      "           1   0.454802  0.925287  0.609848       348\n",
      "\n",
      "    accuracy                       0.715862      1450\n",
      "   macro avg   0.709881  0.787508  0.693211      1450\n",
      "weighted avg   0.842522  0.715862  0.736559      1450\n",
      "\n"
     ]
    }
   ],
   "source": [
    "from sklearn.metrics import classification_report\n",
    "print(classification_report( y_test_np, q_predictions, digits=6))"
   ]
  },
  {
   "cell_type": "markdown",
   "metadata": {},
   "source": [
    "Utilizando Pegasus"
   ]
  },
  {
   "cell_type": "code",
   "execution_count": 54,
   "metadata": {},
   "outputs": [],
   "source": [
    "import numpy as np\n",
    "X_train_np = np.array(features_train.values)\n",
    "y_train_np = labels_train.values"
   ]
  },
  {
   "cell_type": "code",
   "execution_count": 55,
   "metadata": {},
   "outputs": [],
   "source": [
    "import numpy as np\n",
    "X_test_np = np.array(features_test.values)\n",
    "y_test_np = labels_test.values"
   ]
  },
  {
   "cell_type": "code",
   "execution_count": 56,
   "metadata": {},
   "outputs": [],
   "source": [
    "# number of qubits is equal to the number of features\n",
    "num_qubits = len(features.columns)\n",
    "\n",
    "# number of steps performed during the training procedure\n",
    "tau = 100\n",
    "\n",
    "# regularization parameter\n",
    "C = 1000"
   ]
  },
  {
   "cell_type": "code",
   "execution_count": 57,
   "metadata": {},
   "outputs": [],
   "source": [
    "#from qiskit import BasicAer\n",
    "from qiskit.circuit.library import ZFeatureMap\n",
    "from qiskit_algorithms.utils import algorithm_globals\n",
    "\n",
    "from qiskit_machine_learning.kernels import FidelityQuantumKernel\n",
    "\n",
    "algorithm_globals.random_seed = 12345\n",
    "\n",
    "feature_map = ZFeatureMap(feature_dimension=num_qubits, reps=1)\n",
    "\n",
    "qkernel = FidelityQuantumKernel(feature_map=feature_map)"
   ]
  },
  {
   "cell_type": "code",
   "execution_count": 58,
   "metadata": {},
   "outputs": [
    {
     "name": "stdout",
     "output_type": "stream",
     "text": [
      "Training time: 7 seconds\n",
      "PegasosQSVC classification test score: 0.7855172413793103\n"
     ]
    }
   ],
   "source": [
    "from qiskit_machine_learning.algorithms import PegasosQSVC\n",
    "import time\n",
    "np.random.seed(123)\n",
    "pegasos_qsvc = PegasosQSVC(quantum_kernel=qkernel, C=C, num_steps=tau)\n",
    "\n",
    "# training\n",
    "start = time.time()\n",
    "pegasos_qsvc.fit(X_train_np, y_train_np)\n",
    "elapsed = time.time() - start\n",
    "\n",
    "print(f\"Training time: {round(elapsed)} seconds\")\n",
    "\n",
    "# testing\n",
    "pegasos_score = pegasos_qsvc.score(X_test_np, y_test_np)\n",
    "print(f\"PegasosQSVC classification test score: {pegasos_score}\")"
   ]
  },
  {
   "cell_type": "code",
   "execution_count": 59,
   "metadata": {},
   "outputs": [
    {
     "data": {
      "text/plain": [
       "<sklearn.metrics._plot.confusion_matrix.ConfusionMatrixDisplay at 0x2669689e310>"
      ]
     },
     "execution_count": 59,
     "metadata": {},
     "output_type": "execute_result"
    },
    {
     "data": {
      "image/png": "[encoded data removed]",
      "text/plain": [
       "<Figure size 1200x600 with 2 Axes>"
      ]
     },
     "metadata": {},
     "output_type": "display_data"
    }
   ],
   "source": [
    "import matplotlib.pyplot as plot\n",
    "import seaborn as sns\n",
    "from sklearn.metrics import confusion_matrix\n",
    "q_predictions = pegasos_qsvc.predict(X_test_np)\n",
    "confusion2 = confusion_matrix(y_test_np, q_predictions)\n",
    "from sklearn.metrics import ConfusionMatrixDisplay\n",
    "ConfusionMatrixDisplay(confusion2).plot()\n",
    "#sns.heatmap(confusion2, annot = True, cmap = \"Blues\", fmt = \"d\")\n",
    "#plot.xlabel(\"Predict values\")\n",
    "#plot.ylabel(\"Real values\")\n",
    "#plot.title(\"Confusion Matrix (PegasusQSVC)\")\n",
    "#plot.show()"
   ]
  },
  {
   "cell_type": "code",
   "execution_count": 60,
   "metadata": {},
   "outputs": [
    {
     "name": "stdout",
     "output_type": "stream",
     "text": [
      "Quantum PQSVC on the training dataset: 0.79\n",
      "Quantum PQSVC on the test dataset:     0.79\n"
     ]
    }
   ],
   "source": [
    "train_score_q4 = pegasos_qsvc.score(X_train_np, y_train_np)\n",
    "test_score_q4 = pegasos_qsvc.score(X_test_np, y_test_np)\n",
    "\n",
    "print(f\"Quantum PQSVC on the training dataset: {train_score_q4:.2f}\")\n",
    "print(f\"Quantum PQSVC on the test dataset:     {test_score_q4:.2f}\")"
   ]
  },
  {
   "cell_type": "code",
   "execution_count": 61,
   "metadata": {},
   "outputs": [
    {
     "name": "stdout",
     "output_type": "stream",
     "text": [
      "              precision    recall  f1-score   support\n",
      "\n",
      "           0   0.943883  0.763158  0.843954      1102\n",
      "           1   0.533095  0.856322  0.657111       348\n",
      "\n",
      "    accuracy                       0.785517      1450\n",
      "   macro avg   0.738489  0.809740  0.750533      1450\n",
      "weighted avg   0.845294  0.785517  0.799112      1450\n",
      "\n"
     ]
    }
   ],
   "source": [
    "from sklearn.metrics import classification_report\n",
    "print(classification_report( y_test_np, q_predictions, digits=6))"
   ]
  }
 ],
 "metadata": {
  "kernelspec": {
   "display_name": "Python 3",
   "language": "python",
   "name": "python3"
  },
  "language_info": {
   "codemirror_mode": {
    "name": "ipython",
    "version": 3
   },
   "file_extension": ".py",
   "mimetype": "text/x-python",
   "name": "python",
   "nbconvert_exporter": "python",
   "pygments_lexer": "ipython3",
   "version": "3.11.7"
  }
 },
 "nbformat": 4,
 "nbformat_minor": 2
}
