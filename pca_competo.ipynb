{
 "cells": [
  {
   "cell_type": "code",
   "execution_count": 1,
   "metadata": {},
   "outputs": [],
   "source": [
    "import pandas as pd"
   ]
  },
  {
   "cell_type": "code",
   "execution_count": 2,
   "metadata": {},
   "outputs": [
    {
     "name": "stderr",
     "output_type": "stream",
     "text": [
      "C:\\Users\\estre\\AppData\\Local\\Temp\\ipykernel_23372\\1027246833.py:1: DtypeWarning: Columns (92) have mixed types. Specify dtype option on import or set low_memory=False.\n",
      "  data = pd.read_csv('drebin-215-dataset-5560malware-9476-benign.csv', delimiter=',')\n"
     ]
    }
   ],
   "source": [
    "data = pd.read_csv('drebin-215-dataset-5560malware-9476-benign.csv', delimiter=',')"
   ]
  },
  {
   "cell_type": "code",
   "execution_count": 3,
   "metadata": {},
   "outputs": [
    {
     "data": {
      "text/html": [
       "<div>\n",
       "<style scoped>\n",
       "    .dataframe tbody tr th:only-of-type {\n",
       "        vertical-align: middle;\n",
       "    }\n",
       "\n",
       "    .dataframe tbody tr th {\n",
       "        vertical-align: top;\n",
       "    }\n",
       "\n",
       "    .dataframe thead th {\n",
       "        text-align: right;\n",
       "    }\n",
       "</style>\n",
       "<table border=\"1\" class=\"dataframe\">\n",
       "  <thead>\n",
       "    <tr style=\"text-align: right;\">\n",
       "      <th></th>\n",
       "      <th>transact</th>\n",
       "      <th>onServiceConnected</th>\n",
       "      <th>bindService</th>\n",
       "      <th>attachInterface</th>\n",
       "      <th>ServiceConnection</th>\n",
       "      <th>android.os.Binder</th>\n",
       "      <th>SEND_SMS</th>\n",
       "      <th>Ljava.lang.Class.getCanonicalName</th>\n",
       "      <th>Ljava.lang.Class.getMethods</th>\n",
       "      <th>Ljava.lang.Class.cast</th>\n",
       "      <th>...</th>\n",
       "      <th>READ_CONTACTS</th>\n",
       "      <th>DEVICE_POWER</th>\n",
       "      <th>HARDWARE_TEST</th>\n",
       "      <th>ACCESS_WIFI_STATE</th>\n",
       "      <th>WRITE_EXTERNAL_STORAGE</th>\n",
       "      <th>ACCESS_FINE_LOCATION</th>\n",
       "      <th>SET_WALLPAPER_HINTS</th>\n",
       "      <th>SET_PREFERRED_APPLICATIONS</th>\n",
       "      <th>WRITE_SECURE_SETTINGS</th>\n",
       "      <th>class</th>\n",
       "    </tr>\n",
       "  </thead>\n",
       "  <tbody>\n",
       "    <tr>\n",
       "      <th>0</th>\n",
       "      <td>0</td>\n",
       "      <td>0</td>\n",
       "      <td>0</td>\n",
       "      <td>0</td>\n",
       "      <td>0</td>\n",
       "      <td>0</td>\n",
       "      <td>1</td>\n",
       "      <td>0</td>\n",
       "      <td>0</td>\n",
       "      <td>0</td>\n",
       "      <td>...</td>\n",
       "      <td>0</td>\n",
       "      <td>0</td>\n",
       "      <td>0</td>\n",
       "      <td>0</td>\n",
       "      <td>1</td>\n",
       "      <td>0</td>\n",
       "      <td>0</td>\n",
       "      <td>0</td>\n",
       "      <td>0</td>\n",
       "      <td>S</td>\n",
       "    </tr>\n",
       "    <tr>\n",
       "      <th>1</th>\n",
       "      <td>0</td>\n",
       "      <td>0</td>\n",
       "      <td>0</td>\n",
       "      <td>0</td>\n",
       "      <td>0</td>\n",
       "      <td>0</td>\n",
       "      <td>1</td>\n",
       "      <td>0</td>\n",
       "      <td>0</td>\n",
       "      <td>0</td>\n",
       "      <td>...</td>\n",
       "      <td>0</td>\n",
       "      <td>0</td>\n",
       "      <td>0</td>\n",
       "      <td>0</td>\n",
       "      <td>1</td>\n",
       "      <td>0</td>\n",
       "      <td>0</td>\n",
       "      <td>0</td>\n",
       "      <td>0</td>\n",
       "      <td>S</td>\n",
       "    </tr>\n",
       "    <tr>\n",
       "      <th>2</th>\n",
       "      <td>0</td>\n",
       "      <td>0</td>\n",
       "      <td>0</td>\n",
       "      <td>0</td>\n",
       "      <td>0</td>\n",
       "      <td>0</td>\n",
       "      <td>1</td>\n",
       "      <td>0</td>\n",
       "      <td>0</td>\n",
       "      <td>0</td>\n",
       "      <td>...</td>\n",
       "      <td>0</td>\n",
       "      <td>0</td>\n",
       "      <td>0</td>\n",
       "      <td>0</td>\n",
       "      <td>0</td>\n",
       "      <td>0</td>\n",
       "      <td>0</td>\n",
       "      <td>0</td>\n",
       "      <td>0</td>\n",
       "      <td>S</td>\n",
       "    </tr>\n",
       "    <tr>\n",
       "      <th>3</th>\n",
       "      <td>0</td>\n",
       "      <td>0</td>\n",
       "      <td>0</td>\n",
       "      <td>0</td>\n",
       "      <td>0</td>\n",
       "      <td>0</td>\n",
       "      <td>0</td>\n",
       "      <td>0</td>\n",
       "      <td>0</td>\n",
       "      <td>1</td>\n",
       "      <td>...</td>\n",
       "      <td>0</td>\n",
       "      <td>0</td>\n",
       "      <td>0</td>\n",
       "      <td>1</td>\n",
       "      <td>1</td>\n",
       "      <td>1</td>\n",
       "      <td>0</td>\n",
       "      <td>0</td>\n",
       "      <td>0</td>\n",
       "      <td>S</td>\n",
       "    </tr>\n",
       "    <tr>\n",
       "      <th>4</th>\n",
       "      <td>0</td>\n",
       "      <td>0</td>\n",
       "      <td>0</td>\n",
       "      <td>0</td>\n",
       "      <td>0</td>\n",
       "      <td>0</td>\n",
       "      <td>0</td>\n",
       "      <td>0</td>\n",
       "      <td>0</td>\n",
       "      <td>0</td>\n",
       "      <td>...</td>\n",
       "      <td>0</td>\n",
       "      <td>0</td>\n",
       "      <td>0</td>\n",
       "      <td>1</td>\n",
       "      <td>0</td>\n",
       "      <td>1</td>\n",
       "      <td>0</td>\n",
       "      <td>0</td>\n",
       "      <td>0</td>\n",
       "      <td>S</td>\n",
       "    </tr>\n",
       "    <tr>\n",
       "      <th>...</th>\n",
       "      <td>...</td>\n",
       "      <td>...</td>\n",
       "      <td>...</td>\n",
       "      <td>...</td>\n",
       "      <td>...</td>\n",
       "      <td>...</td>\n",
       "      <td>...</td>\n",
       "      <td>...</td>\n",
       "      <td>...</td>\n",
       "      <td>...</td>\n",
       "      <td>...</td>\n",
       "      <td>...</td>\n",
       "      <td>...</td>\n",
       "      <td>...</td>\n",
       "      <td>...</td>\n",
       "      <td>...</td>\n",
       "      <td>...</td>\n",
       "      <td>...</td>\n",
       "      <td>...</td>\n",
       "      <td>...</td>\n",
       "      <td>...</td>\n",
       "    </tr>\n",
       "    <tr>\n",
       "      <th>15031</th>\n",
       "      <td>1</td>\n",
       "      <td>1</td>\n",
       "      <td>1</td>\n",
       "      <td>1</td>\n",
       "      <td>1</td>\n",
       "      <td>1</td>\n",
       "      <td>0</td>\n",
       "      <td>1</td>\n",
       "      <td>1</td>\n",
       "      <td>1</td>\n",
       "      <td>...</td>\n",
       "      <td>0</td>\n",
       "      <td>0</td>\n",
       "      <td>0</td>\n",
       "      <td>1</td>\n",
       "      <td>1</td>\n",
       "      <td>0</td>\n",
       "      <td>0</td>\n",
       "      <td>0</td>\n",
       "      <td>0</td>\n",
       "      <td>B</td>\n",
       "    </tr>\n",
       "    <tr>\n",
       "      <th>15032</th>\n",
       "      <td>0</td>\n",
       "      <td>0</td>\n",
       "      <td>0</td>\n",
       "      <td>0</td>\n",
       "      <td>0</td>\n",
       "      <td>0</td>\n",
       "      <td>0</td>\n",
       "      <td>0</td>\n",
       "      <td>0</td>\n",
       "      <td>1</td>\n",
       "      <td>...</td>\n",
       "      <td>0</td>\n",
       "      <td>0</td>\n",
       "      <td>0</td>\n",
       "      <td>1</td>\n",
       "      <td>1</td>\n",
       "      <td>0</td>\n",
       "      <td>0</td>\n",
       "      <td>0</td>\n",
       "      <td>0</td>\n",
       "      <td>B</td>\n",
       "    </tr>\n",
       "    <tr>\n",
       "      <th>15033</th>\n",
       "      <td>0</td>\n",
       "      <td>0</td>\n",
       "      <td>0</td>\n",
       "      <td>0</td>\n",
       "      <td>0</td>\n",
       "      <td>0</td>\n",
       "      <td>0</td>\n",
       "      <td>0</td>\n",
       "      <td>0</td>\n",
       "      <td>0</td>\n",
       "      <td>...</td>\n",
       "      <td>0</td>\n",
       "      <td>0</td>\n",
       "      <td>0</td>\n",
       "      <td>1</td>\n",
       "      <td>1</td>\n",
       "      <td>0</td>\n",
       "      <td>0</td>\n",
       "      <td>0</td>\n",
       "      <td>0</td>\n",
       "      <td>B</td>\n",
       "    </tr>\n",
       "    <tr>\n",
       "      <th>15034</th>\n",
       "      <td>1</td>\n",
       "      <td>1</td>\n",
       "      <td>1</td>\n",
       "      <td>1</td>\n",
       "      <td>1</td>\n",
       "      <td>1</td>\n",
       "      <td>0</td>\n",
       "      <td>1</td>\n",
       "      <td>1</td>\n",
       "      <td>1</td>\n",
       "      <td>...</td>\n",
       "      <td>1</td>\n",
       "      <td>0</td>\n",
       "      <td>0</td>\n",
       "      <td>1</td>\n",
       "      <td>1</td>\n",
       "      <td>1</td>\n",
       "      <td>0</td>\n",
       "      <td>0</td>\n",
       "      <td>0</td>\n",
       "      <td>B</td>\n",
       "    </tr>\n",
       "    <tr>\n",
       "      <th>15035</th>\n",
       "      <td>1</td>\n",
       "      <td>1</td>\n",
       "      <td>1</td>\n",
       "      <td>1</td>\n",
       "      <td>1</td>\n",
       "      <td>1</td>\n",
       "      <td>0</td>\n",
       "      <td>1</td>\n",
       "      <td>1</td>\n",
       "      <td>1</td>\n",
       "      <td>...</td>\n",
       "      <td>0</td>\n",
       "      <td>0</td>\n",
       "      <td>0</td>\n",
       "      <td>0</td>\n",
       "      <td>1</td>\n",
       "      <td>1</td>\n",
       "      <td>0</td>\n",
       "      <td>0</td>\n",
       "      <td>0</td>\n",
       "      <td>B</td>\n",
       "    </tr>\n",
       "  </tbody>\n",
       "</table>\n",
       "<p>15036 rows × 216 columns</p>\n",
       "</div>"
      ],
      "text/plain": [
       "       transact  onServiceConnected  bindService  attachInterface  \\\n",
       "0             0                   0            0                0   \n",
       "1             0                   0            0                0   \n",
       "2             0                   0            0                0   \n",
       "3             0                   0            0                0   \n",
       "4             0                   0            0                0   \n",
       "...         ...                 ...          ...              ...   \n",
       "15031         1                   1            1                1   \n",
       "15032         0                   0            0                0   \n",
       "15033         0                   0            0                0   \n",
       "15034         1                   1            1                1   \n",
       "15035         1                   1            1                1   \n",
       "\n",
       "       ServiceConnection  android.os.Binder  SEND_SMS  \\\n",
       "0                      0                  0         1   \n",
       "1                      0                  0         1   \n",
       "2                      0                  0         1   \n",
       "3                      0                  0         0   \n",
       "4                      0                  0         0   \n",
       "...                  ...                ...       ...   \n",
       "15031                  1                  1         0   \n",
       "15032                  0                  0         0   \n",
       "15033                  0                  0         0   \n",
       "15034                  1                  1         0   \n",
       "15035                  1                  1         0   \n",
       "\n",
       "       Ljava.lang.Class.getCanonicalName  Ljava.lang.Class.getMethods  \\\n",
       "0                                      0                            0   \n",
       "1                                      0                            0   \n",
       "2                                      0                            0   \n",
       "3                                      0                            0   \n",
       "4                                      0                            0   \n",
       "...                                  ...                          ...   \n",
       "15031                                  1                            1   \n",
       "15032                                  0                            0   \n",
       "15033                                  0                            0   \n",
       "15034                                  1                            1   \n",
       "15035                                  1                            1   \n",
       "\n",
       "       Ljava.lang.Class.cast  ...  READ_CONTACTS  DEVICE_POWER  HARDWARE_TEST  \\\n",
       "0                          0  ...              0             0              0   \n",
       "1                          0  ...              0             0              0   \n",
       "2                          0  ...              0             0              0   \n",
       "3                          1  ...              0             0              0   \n",
       "4                          0  ...              0             0              0   \n",
       "...                      ...  ...            ...           ...            ...   \n",
       "15031                      1  ...              0             0              0   \n",
       "15032                      1  ...              0             0              0   \n",
       "15033                      0  ...              0             0              0   \n",
       "15034                      1  ...              1             0              0   \n",
       "15035                      1  ...              0             0              0   \n",
       "\n",
       "       ACCESS_WIFI_STATE  WRITE_EXTERNAL_STORAGE  ACCESS_FINE_LOCATION  \\\n",
       "0                      0                       1                     0   \n",
       "1                      0                       1                     0   \n",
       "2                      0                       0                     0   \n",
       "3                      1                       1                     1   \n",
       "4                      1                       0                     1   \n",
       "...                  ...                     ...                   ...   \n",
       "15031                  1                       1                     0   \n",
       "15032                  1                       1                     0   \n",
       "15033                  1                       1                     0   \n",
       "15034                  1                       1                     1   \n",
       "15035                  0                       1                     1   \n",
       "\n",
       "       SET_WALLPAPER_HINTS  SET_PREFERRED_APPLICATIONS  WRITE_SECURE_SETTINGS  \\\n",
       "0                        0                           0                      0   \n",
       "1                        0                           0                      0   \n",
       "2                        0                           0                      0   \n",
       "3                        0                           0                      0   \n",
       "4                        0                           0                      0   \n",
       "...                    ...                         ...                    ...   \n",
       "15031                    0                           0                      0   \n",
       "15032                    0                           0                      0   \n",
       "15033                    0                           0                      0   \n",
       "15034                    0                           0                      0   \n",
       "15035                    0                           0                      0   \n",
       "\n",
       "       class  \n",
       "0          S  \n",
       "1          S  \n",
       "2          S  \n",
       "3          S  \n",
       "4          S  \n",
       "...      ...  \n",
       "15031      B  \n",
       "15032      B  \n",
       "15033      B  \n",
       "15034      B  \n",
       "15035      B  \n",
       "\n",
       "[15036 rows x 216 columns]"
      ]
     },
     "execution_count": 3,
     "metadata": {},
     "output_type": "execute_result"
    }
   ],
   "source": [
    "data"
   ]
  },
  {
   "cell_type": "markdown",
   "metadata": {},
   "source": [
    "### Información de las clases"
   ]
  },
  {
   "cell_type": "code",
   "execution_count": 4,
   "metadata": {},
   "outputs": [
    {
     "name": "stdout",
     "output_type": "stream",
     "text": [
      "<class 'pandas.core.frame.DataFrame'>\n",
      "RangeIndex: 15036 entries, 0 to 15035\n",
      "Columns: 216 entries, transact to class\n",
      "dtypes: int64(214), object(2)\n",
      "memory usage: 24.8+ MB\n"
     ]
    }
   ],
   "source": [
    "data.info()"
   ]
  },
  {
   "cell_type": "markdown",
   "metadata": {},
   "source": [
    "### Desbalanceo de las clases"
   ]
  },
  {
   "cell_type": "code",
   "execution_count": 5,
   "metadata": {},
   "outputs": [
    {
     "data": {
      "text/plain": [
       "5560"
      ]
     },
     "execution_count": 5,
     "metadata": {},
     "output_type": "execute_result"
    }
   ],
   "source": [
    "len(data[data['class']=='S'])"
   ]
  },
  {
   "cell_type": "code",
   "execution_count": 6,
   "metadata": {},
   "outputs": [
    {
     "data": {
      "text/plain": [
       "9476"
      ]
     },
     "execution_count": 6,
     "metadata": {},
     "output_type": "execute_result"
    }
   ],
   "source": [
    "len(data[data['class']=='B'])"
   ]
  },
  {
   "cell_type": "markdown",
   "metadata": {},
   "source": [
    "Hay un desbalencio de las clases, hay más app que no son malware. "
   ]
  },
  {
   "cell_type": "markdown",
   "metadata": {},
   "source": [
    "### Codificación de la variable 'class'"
   ]
  },
  {
   "cell_type": "code",
   "execution_count": 7,
   "metadata": {},
   "outputs": [],
   "source": [
    "class_maping={'B':0, 'S':1}\n",
    "data['class'] = data['class'].map(class_maping)"
   ]
  },
  {
   "cell_type": "code",
   "execution_count": 8,
   "metadata": {},
   "outputs": [
    {
     "data": {
      "text/html": [
       "<div>\n",
       "<style scoped>\n",
       "    .dataframe tbody tr th:only-of-type {\n",
       "        vertical-align: middle;\n",
       "    }\n",
       "\n",
       "    .dataframe tbody tr th {\n",
       "        vertical-align: top;\n",
       "    }\n",
       "\n",
       "    .dataframe thead th {\n",
       "        text-align: right;\n",
       "    }\n",
       "</style>\n",
       "<table border=\"1\" class=\"dataframe\">\n",
       "  <thead>\n",
       "    <tr style=\"text-align: right;\">\n",
       "      <th></th>\n",
       "      <th>transact</th>\n",
       "      <th>onServiceConnected</th>\n",
       "      <th>bindService</th>\n",
       "      <th>attachInterface</th>\n",
       "      <th>ServiceConnection</th>\n",
       "      <th>android.os.Binder</th>\n",
       "      <th>SEND_SMS</th>\n",
       "      <th>Ljava.lang.Class.getCanonicalName</th>\n",
       "      <th>Ljava.lang.Class.getMethods</th>\n",
       "      <th>Ljava.lang.Class.cast</th>\n",
       "      <th>...</th>\n",
       "      <th>READ_CONTACTS</th>\n",
       "      <th>DEVICE_POWER</th>\n",
       "      <th>HARDWARE_TEST</th>\n",
       "      <th>ACCESS_WIFI_STATE</th>\n",
       "      <th>WRITE_EXTERNAL_STORAGE</th>\n",
       "      <th>ACCESS_FINE_LOCATION</th>\n",
       "      <th>SET_WALLPAPER_HINTS</th>\n",
       "      <th>SET_PREFERRED_APPLICATIONS</th>\n",
       "      <th>WRITE_SECURE_SETTINGS</th>\n",
       "      <th>class</th>\n",
       "    </tr>\n",
       "  </thead>\n",
       "  <tbody>\n",
       "    <tr>\n",
       "      <th>0</th>\n",
       "      <td>0</td>\n",
       "      <td>0</td>\n",
       "      <td>0</td>\n",
       "      <td>0</td>\n",
       "      <td>0</td>\n",
       "      <td>0</td>\n",
       "      <td>1</td>\n",
       "      <td>0</td>\n",
       "      <td>0</td>\n",
       "      <td>0</td>\n",
       "      <td>...</td>\n",
       "      <td>0</td>\n",
       "      <td>0</td>\n",
       "      <td>0</td>\n",
       "      <td>0</td>\n",
       "      <td>1</td>\n",
       "      <td>0</td>\n",
       "      <td>0</td>\n",
       "      <td>0</td>\n",
       "      <td>0</td>\n",
       "      <td>1</td>\n",
       "    </tr>\n",
       "    <tr>\n",
       "      <th>1</th>\n",
       "      <td>0</td>\n",
       "      <td>0</td>\n",
       "      <td>0</td>\n",
       "      <td>0</td>\n",
       "      <td>0</td>\n",
       "      <td>0</td>\n",
       "      <td>1</td>\n",
       "      <td>0</td>\n",
       "      <td>0</td>\n",
       "      <td>0</td>\n",
       "      <td>...</td>\n",
       "      <td>0</td>\n",
       "      <td>0</td>\n",
       "      <td>0</td>\n",
       "      <td>0</td>\n",
       "      <td>1</td>\n",
       "      <td>0</td>\n",
       "      <td>0</td>\n",
       "      <td>0</td>\n",
       "      <td>0</td>\n",
       "      <td>1</td>\n",
       "    </tr>\n",
       "    <tr>\n",
       "      <th>2</th>\n",
       "      <td>0</td>\n",
       "      <td>0</td>\n",
       "      <td>0</td>\n",
       "      <td>0</td>\n",
       "      <td>0</td>\n",
       "      <td>0</td>\n",
       "      <td>1</td>\n",
       "      <td>0</td>\n",
       "      <td>0</td>\n",
       "      <td>0</td>\n",
       "      <td>...</td>\n",
       "      <td>0</td>\n",
       "      <td>0</td>\n",
       "      <td>0</td>\n",
       "      <td>0</td>\n",
       "      <td>0</td>\n",
       "      <td>0</td>\n",
       "      <td>0</td>\n",
       "      <td>0</td>\n",
       "      <td>0</td>\n",
       "      <td>1</td>\n",
       "    </tr>\n",
       "    <tr>\n",
       "      <th>3</th>\n",
       "      <td>0</td>\n",
       "      <td>0</td>\n",
       "      <td>0</td>\n",
       "      <td>0</td>\n",
       "      <td>0</td>\n",
       "      <td>0</td>\n",
       "      <td>0</td>\n",
       "      <td>0</td>\n",
       "      <td>0</td>\n",
       "      <td>1</td>\n",
       "      <td>...</td>\n",
       "      <td>0</td>\n",
       "      <td>0</td>\n",
       "      <td>0</td>\n",
       "      <td>1</td>\n",
       "      <td>1</td>\n",
       "      <td>1</td>\n",
       "      <td>0</td>\n",
       "      <td>0</td>\n",
       "      <td>0</td>\n",
       "      <td>1</td>\n",
       "    </tr>\n",
       "    <tr>\n",
       "      <th>4</th>\n",
       "      <td>0</td>\n",
       "      <td>0</td>\n",
       "      <td>0</td>\n",
       "      <td>0</td>\n",
       "      <td>0</td>\n",
       "      <td>0</td>\n",
       "      <td>0</td>\n",
       "      <td>0</td>\n",
       "      <td>0</td>\n",
       "      <td>0</td>\n",
       "      <td>...</td>\n",
       "      <td>0</td>\n",
       "      <td>0</td>\n",
       "      <td>0</td>\n",
       "      <td>1</td>\n",
       "      <td>0</td>\n",
       "      <td>1</td>\n",
       "      <td>0</td>\n",
       "      <td>0</td>\n",
       "      <td>0</td>\n",
       "      <td>1</td>\n",
       "    </tr>\n",
       "    <tr>\n",
       "      <th>...</th>\n",
       "      <td>...</td>\n",
       "      <td>...</td>\n",
       "      <td>...</td>\n",
       "      <td>...</td>\n",
       "      <td>...</td>\n",
       "      <td>...</td>\n",
       "      <td>...</td>\n",
       "      <td>...</td>\n",
       "      <td>...</td>\n",
       "      <td>...</td>\n",
       "      <td>...</td>\n",
       "      <td>...</td>\n",
       "      <td>...</td>\n",
       "      <td>...</td>\n",
       "      <td>...</td>\n",
       "      <td>...</td>\n",
       "      <td>...</td>\n",
       "      <td>...</td>\n",
       "      <td>...</td>\n",
       "      <td>...</td>\n",
       "      <td>...</td>\n",
       "    </tr>\n",
       "    <tr>\n",
       "      <th>15031</th>\n",
       "      <td>1</td>\n",
       "      <td>1</td>\n",
       "      <td>1</td>\n",
       "      <td>1</td>\n",
       "      <td>1</td>\n",
       "      <td>1</td>\n",
       "      <td>0</td>\n",
       "      <td>1</td>\n",
       "      <td>1</td>\n",
       "      <td>1</td>\n",
       "      <td>...</td>\n",
       "      <td>0</td>\n",
       "      <td>0</td>\n",
       "      <td>0</td>\n",
       "      <td>1</td>\n",
       "      <td>1</td>\n",
       "      <td>0</td>\n",
       "      <td>0</td>\n",
       "      <td>0</td>\n",
       "      <td>0</td>\n",
       "      <td>0</td>\n",
       "    </tr>\n",
       "    <tr>\n",
       "      <th>15032</th>\n",
       "      <td>0</td>\n",
       "      <td>0</td>\n",
       "      <td>0</td>\n",
       "      <td>0</td>\n",
       "      <td>0</td>\n",
       "      <td>0</td>\n",
       "      <td>0</td>\n",
       "      <td>0</td>\n",
       "      <td>0</td>\n",
       "      <td>1</td>\n",
       "      <td>...</td>\n",
       "      <td>0</td>\n",
       "      <td>0</td>\n",
       "      <td>0</td>\n",
       "      <td>1</td>\n",
       "      <td>1</td>\n",
       "      <td>0</td>\n",
       "      <td>0</td>\n",
       "      <td>0</td>\n",
       "      <td>0</td>\n",
       "      <td>0</td>\n",
       "    </tr>\n",
       "    <tr>\n",
       "      <th>15033</th>\n",
       "      <td>0</td>\n",
       "      <td>0</td>\n",
       "      <td>0</td>\n",
       "      <td>0</td>\n",
       "      <td>0</td>\n",
       "      <td>0</td>\n",
       "      <td>0</td>\n",
       "      <td>0</td>\n",
       "      <td>0</td>\n",
       "      <td>0</td>\n",
       "      <td>...</td>\n",
       "      <td>0</td>\n",
       "      <td>0</td>\n",
       "      <td>0</td>\n",
       "      <td>1</td>\n",
       "      <td>1</td>\n",
       "      <td>0</td>\n",
       "      <td>0</td>\n",
       "      <td>0</td>\n",
       "      <td>0</td>\n",
       "      <td>0</td>\n",
       "    </tr>\n",
       "    <tr>\n",
       "      <th>15034</th>\n",
       "      <td>1</td>\n",
       "      <td>1</td>\n",
       "      <td>1</td>\n",
       "      <td>1</td>\n",
       "      <td>1</td>\n",
       "      <td>1</td>\n",
       "      <td>0</td>\n",
       "      <td>1</td>\n",
       "      <td>1</td>\n",
       "      <td>1</td>\n",
       "      <td>...</td>\n",
       "      <td>1</td>\n",
       "      <td>0</td>\n",
       "      <td>0</td>\n",
       "      <td>1</td>\n",
       "      <td>1</td>\n",
       "      <td>1</td>\n",
       "      <td>0</td>\n",
       "      <td>0</td>\n",
       "      <td>0</td>\n",
       "      <td>0</td>\n",
       "    </tr>\n",
       "    <tr>\n",
       "      <th>15035</th>\n",
       "      <td>1</td>\n",
       "      <td>1</td>\n",
       "      <td>1</td>\n",
       "      <td>1</td>\n",
       "      <td>1</td>\n",
       "      <td>1</td>\n",
       "      <td>0</td>\n",
       "      <td>1</td>\n",
       "      <td>1</td>\n",
       "      <td>1</td>\n",
       "      <td>...</td>\n",
       "      <td>0</td>\n",
       "      <td>0</td>\n",
       "      <td>0</td>\n",
       "      <td>0</td>\n",
       "      <td>1</td>\n",
       "      <td>1</td>\n",
       "      <td>0</td>\n",
       "      <td>0</td>\n",
       "      <td>0</td>\n",
       "      <td>0</td>\n",
       "    </tr>\n",
       "  </tbody>\n",
       "</table>\n",
       "<p>15036 rows × 216 columns</p>\n",
       "</div>"
      ],
      "text/plain": [
       "       transact  onServiceConnected  bindService  attachInterface  \\\n",
       "0             0                   0            0                0   \n",
       "1             0                   0            0                0   \n",
       "2             0                   0            0                0   \n",
       "3             0                   0            0                0   \n",
       "4             0                   0            0                0   \n",
       "...         ...                 ...          ...              ...   \n",
       "15031         1                   1            1                1   \n",
       "15032         0                   0            0                0   \n",
       "15033         0                   0            0                0   \n",
       "15034         1                   1            1                1   \n",
       "15035         1                   1            1                1   \n",
       "\n",
       "       ServiceConnection  android.os.Binder  SEND_SMS  \\\n",
       "0                      0                  0         1   \n",
       "1                      0                  0         1   \n",
       "2                      0                  0         1   \n",
       "3                      0                  0         0   \n",
       "4                      0                  0         0   \n",
       "...                  ...                ...       ...   \n",
       "15031                  1                  1         0   \n",
       "15032                  0                  0         0   \n",
       "15033                  0                  0         0   \n",
       "15034                  1                  1         0   \n",
       "15035                  1                  1         0   \n",
       "\n",
       "       Ljava.lang.Class.getCanonicalName  Ljava.lang.Class.getMethods  \\\n",
       "0                                      0                            0   \n",
       "1                                      0                            0   \n",
       "2                                      0                            0   \n",
       "3                                      0                            0   \n",
       "4                                      0                            0   \n",
       "...                                  ...                          ...   \n",
       "15031                                  1                            1   \n",
       "15032                                  0                            0   \n",
       "15033                                  0                            0   \n",
       "15034                                  1                            1   \n",
       "15035                                  1                            1   \n",
       "\n",
       "       Ljava.lang.Class.cast  ...  READ_CONTACTS  DEVICE_POWER  HARDWARE_TEST  \\\n",
       "0                          0  ...              0             0              0   \n",
       "1                          0  ...              0             0              0   \n",
       "2                          0  ...              0             0              0   \n",
       "3                          1  ...              0             0              0   \n",
       "4                          0  ...              0             0              0   \n",
       "...                      ...  ...            ...           ...            ...   \n",
       "15031                      1  ...              0             0              0   \n",
       "15032                      1  ...              0             0              0   \n",
       "15033                      0  ...              0             0              0   \n",
       "15034                      1  ...              1             0              0   \n",
       "15035                      1  ...              0             0              0   \n",
       "\n",
       "       ACCESS_WIFI_STATE  WRITE_EXTERNAL_STORAGE  ACCESS_FINE_LOCATION  \\\n",
       "0                      0                       1                     0   \n",
       "1                      0                       1                     0   \n",
       "2                      0                       0                     0   \n",
       "3                      1                       1                     1   \n",
       "4                      1                       0                     1   \n",
       "...                  ...                     ...                   ...   \n",
       "15031                  1                       1                     0   \n",
       "15032                  1                       1                     0   \n",
       "15033                  1                       1                     0   \n",
       "15034                  1                       1                     1   \n",
       "15035                  0                       1                     1   \n",
       "\n",
       "       SET_WALLPAPER_HINTS  SET_PREFERRED_APPLICATIONS  WRITE_SECURE_SETTINGS  \\\n",
       "0                        0                           0                      0   \n",
       "1                        0                           0                      0   \n",
       "2                        0                           0                      0   \n",
       "3                        0                           0                      0   \n",
       "4                        0                           0                      0   \n",
       "...                    ...                         ...                    ...   \n",
       "15031                    0                           0                      0   \n",
       "15032                    0                           0                      0   \n",
       "15033                    0                           0                      0   \n",
       "15034                    0                           0                      0   \n",
       "15035                    0                           0                      0   \n",
       "\n",
       "       class  \n",
       "0          1  \n",
       "1          1  \n",
       "2          1  \n",
       "3          1  \n",
       "4          1  \n",
       "...      ...  \n",
       "15031      0  \n",
       "15032      0  \n",
       "15033      0  \n",
       "15034      0  \n",
       "15035      0  \n",
       "\n",
       "[15036 rows x 216 columns]"
      ]
     },
     "execution_count": 8,
     "metadata": {},
     "output_type": "execute_result"
    }
   ],
   "source": [
    "data"
   ]
  },
  {
   "cell_type": "markdown",
   "metadata": {},
   "source": [
    "### Búscamos cual es la otra variable tipo object"
   ]
  },
  {
   "cell_type": "code",
   "execution_count": 9,
   "metadata": {},
   "outputs": [
    {
     "name": "stdout",
     "output_type": "stream",
     "text": [
      "<class 'pandas.core.frame.DataFrame'>\n",
      "RangeIndex: 15036 entries, 0 to 15035\n",
      "Columns: 216 entries, transact to class\n",
      "dtypes: int64(215), object(1)\n",
      "memory usage: 24.8+ MB\n"
     ]
    }
   ],
   "source": [
    "data.info()"
   ]
  },
  {
   "cell_type": "code",
   "execution_count": 10,
   "metadata": {},
   "outputs": [
    {
     "name": "stdout",
     "output_type": "stream",
     "text": [
      "Columnas de tipo 'object':\n",
      "Index(['TelephonyManager.getSimCountryIso'], dtype='object')\n"
     ]
    }
   ],
   "source": [
    "columnas_object = data.select_dtypes(include='object').columns\n",
    "print(\"Columnas de tipo 'object':\")\n",
    "print(columnas_object)"
   ]
  },
  {
   "cell_type": "markdown",
   "metadata": {},
   "source": [
    "### Vemos que valores toma"
   ]
  },
  {
   "cell_type": "code",
   "execution_count": 11,
   "metadata": {},
   "outputs": [
    {
     "data": {
      "text/plain": [
       "array(['0', '1', '?', 1, 0], dtype=object)"
      ]
     },
     "execution_count": 11,
     "metadata": {},
     "output_type": "execute_result"
    }
   ],
   "source": [
    "data['TelephonyManager.getSimCountryIso'].unique()"
   ]
  },
  {
   "cell_type": "markdown",
   "metadata": {},
   "source": [
    "Viendo el carácter de esta variable podemos eliminar y ver que resultados obtenemos. Por si la necesitamos se guardará en una variable"
   ]
  },
  {
   "cell_type": "code",
   "execution_count": 12,
   "metadata": {},
   "outputs": [],
   "source": [
    "data_variable_strange = data['TelephonyManager.getSimCountryIso']"
   ]
  },
  {
   "cell_type": "code",
   "execution_count": 13,
   "metadata": {},
   "outputs": [],
   "source": [
    "data = data.drop(columns='TelephonyManager.getSimCountryIso')"
   ]
  },
  {
   "cell_type": "markdown",
   "metadata": {},
   "source": [
    "#### Comprobamos que todas las variables son numéricas"
   ]
  },
  {
   "cell_type": "code",
   "execution_count": 14,
   "metadata": {},
   "outputs": [
    {
     "name": "stdout",
     "output_type": "stream",
     "text": [
      "<class 'pandas.core.frame.DataFrame'>\n",
      "RangeIndex: 15036 entries, 0 to 15035\n",
      "Columns: 215 entries, transact to class\n",
      "dtypes: int64(215)\n",
      "memory usage: 24.7 MB\n"
     ]
    }
   ],
   "source": [
    "data.info()"
   ]
  },
  {
   "cell_type": "markdown",
   "metadata": {},
   "source": [
    "Hipótesis: todas las variables que tenemos en nuestro conjunto de datos son categóricas"
   ]
  },
  {
   "cell_type": "code",
   "execution_count": 15,
   "metadata": {},
   "outputs": [
    {
     "data": {
      "text/plain": [
       "transact                      2\n",
       "onServiceConnected            2\n",
       "bindService                   2\n",
       "attachInterface               2\n",
       "ServiceConnection             2\n",
       "                             ..\n",
       "ACCESS_FINE_LOCATION          2\n",
       "SET_WALLPAPER_HINTS           2\n",
       "SET_PREFERRED_APPLICATIONS    2\n",
       "WRITE_SECURE_SETTINGS         2\n",
       "class                         2\n",
       "Length: 215, dtype: int64"
      ]
     },
     "execution_count": 15,
     "metadata": {},
     "output_type": "execute_result"
    }
   ],
   "source": [
    "data.nunique()"
   ]
  },
  {
   "cell_type": "code",
   "execution_count": 16,
   "metadata": {},
   "outputs": [
    {
     "name": "stdout",
     "output_type": "stream",
     "text": [
      "transact                                           2\n",
      "onServiceConnected                                 2\n",
      "bindService                                        2\n",
      "attachInterface                                    2\n",
      "ServiceConnection                                  2\n",
      "android.os.Binder                                  2\n",
      "SEND_SMS                                           2\n",
      "Ljava.lang.Class.getCanonicalName                  2\n",
      "Ljava.lang.Class.getMethods                        2\n",
      "Ljava.lang.Class.cast                              2\n",
      "Ljava.net.URLDecoder                               2\n",
      "android.content.pm.Signature                       2\n",
      "android.telephony.SmsManager                       2\n",
      "READ_PHONE_STATE                                   2\n",
      "getBinder                                          2\n",
      "ClassLoader                                        2\n",
      "Landroid.content.Context.registerReceiver          2\n",
      "Ljava.lang.Class.getField                          2\n",
      "Landroid.content.Context.unregisterReceiver        2\n",
      "GET_ACCOUNTS                                       2\n",
      "RECEIVE_SMS                                        2\n",
      "Ljava.lang.Class.getDeclaredField                  2\n",
      "READ_SMS                                           2\n",
      "getCallingUid                                      2\n",
      "Ljavax.crypto.spec.SecretKeySpec                   2\n",
      "android.intent.action.BOOT_COMPLETED               2\n",
      "USE_CREDENTIALS                                    2\n",
      "MANAGE_ACCOUNTS                                    2\n",
      "android.content.pm.PackageInfo                     2\n",
      "KeySpec                                            2\n",
      "TelephonyManager.getLine1Number                    2\n",
      "DexClassLoader                                     2\n",
      "HttpGet.init                                       2\n",
      "SecretKey                                          2\n",
      "Ljava.lang.Class.getMethod                         2\n",
      "System.loadLibrary                                 2\n",
      "android.intent.action.SEND                         2\n",
      "Ljavax.crypto.Cipher                               2\n",
      "WRITE_SMS                                          2\n",
      "READ_SYNC_SETTINGS                                 2\n",
      "AUTHENTICATE_ACCOUNTS                              2\n",
      "android.telephony.gsm.SmsManager                   2\n",
      "WRITE_HISTORY_BOOKMARKS                            2\n",
      "TelephonyManager.getSubscriberId                   2\n",
      "mount                                              2\n",
      "INSTALL_PACKAGES                                   2\n",
      "Runtime.getRuntime                                 2\n",
      "CAMERA                                             2\n",
      "Ljava.lang.Object.getClass                         2\n",
      "WRITE_SYNC_SETTINGS                                2\n",
      "READ_HISTORY_BOOKMARKS                             2\n",
      "Ljava.lang.Class.forName                           2\n",
      "INTERNET                                           2\n",
      "android.intent.action.PACKAGE_REPLACED             2\n",
      "Binder                                             2\n",
      "android.intent.action.SEND_MULTIPLE                2\n",
      "RECORD_AUDIO                                       2\n",
      "IBinder                                            2\n",
      "android.os.IBinder                                 2\n",
      "createSubprocess                                   2\n",
      "NFC                                                2\n",
      "ACCESS_LOCATION_EXTRA_COMMANDS                     2\n",
      "URLClassLoader                                     2\n",
      "WRITE_APN_SETTINGS                                 2\n",
      "abortBroadcast                                     2\n",
      "BIND_REMOTEVIEWS                                   2\n",
      "android.intent.action.TIME_SET                     2\n",
      "READ_PROFILE                                       2\n",
      "TelephonyManager.getDeviceId                       2\n",
      "MODIFY_AUDIO_SETTINGS                              2\n",
      "getCallingPid                                      2\n",
      "READ_SYNC_STATS                                    2\n",
      "BROADCAST_STICKY                                   2\n",
      "android.intent.action.PACKAGE_REMOVED              2\n",
      "android.intent.action.TIMEZONE_CHANGED             2\n",
      "WAKE_LOCK                                          2\n",
      "RECEIVE_BOOT_COMPLETED                             2\n",
      "RESTART_PACKAGES                                   2\n",
      "Ljava.lang.Class.getPackage                        2\n",
      "chmod                                              2\n",
      "Ljava.lang.Class.getDeclaredClasses                2\n",
      "android.intent.action.ACTION_POWER_DISCONNECTED    2\n",
      "android.intent.action.PACKAGE_ADDED                2\n",
      "PathClassLoader                                    2\n",
      "TelephonyManager.getSimSerialNumber                2\n",
      "Runtime.load                                       2\n",
      "TelephonyManager.getCallState                      2\n",
      "BLUETOOTH                                          2\n",
      "READ_CALENDAR                                      2\n",
      "READ_CALL_LOG                                      2\n",
      "SUBSCRIBED_FEEDS_WRITE                             2\n",
      "READ_EXTERNAL_STORAGE                              2\n",
      "sendMultipartTextMessage                           2\n",
      "PackageInstaller                                   2\n",
      "VIBRATE                                            2\n",
      "remount                                            2\n",
      "android.intent.action.ACTION_SHUTDOWN              2\n",
      "sendDataMessage                                    2\n",
      "ACCESS_NETWORK_STATE                               2\n",
      "chown                                              2\n",
      "HttpPost.init                                      2\n",
      "Ljava.lang.Class.getClasses                        2\n",
      "SUBSCRIBED_FEEDS_READ                              2\n",
      "TelephonyManager.isNetworkRoaming                  2\n",
      "CHANGE_WIFI_MULTICAST_STATE                        2\n",
      "WRITE_CALENDAR                                     2\n",
      "android.intent.action.PACKAGE_DATA_CLEARED         2\n",
      "MASTER_CLEAR                                       2\n",
      "HttpUriRequest                                     2\n",
      "UPDATE_DEVICE_STATS                                2\n",
      "WRITE_CALL_LOG                                     2\n",
      "DELETE_PACKAGES                                    2\n",
      "GET_TASKS                                          2\n",
      "GLOBAL_SEARCH                                      2\n",
      "DELETE_CACHE_FILES                                 2\n",
      "WRITE_USER_DICTIONARY                              2\n",
      "android.intent.action.PACKAGE_CHANGED              2\n",
      "android.intent.action.NEW_OUTGOING_CALL            2\n",
      "REORDER_TASKS                                      2\n",
      "WRITE_PROFILE                                      2\n",
      "SET_WALLPAPER                                      2\n",
      "BIND_INPUT_METHOD                                  2\n",
      "divideMessage                                      2\n",
      "READ_SOCIAL_STREAM                                 2\n",
      "READ_USER_DICTIONARY                               2\n",
      "PROCESS_OUTGOING_CALLS                             2\n",
      "CALL_PRIVILEGED                                    2\n",
      "Runtime.exec                                       2\n",
      "BIND_WALLPAPER                                     2\n",
      "RECEIVE_WAP_PUSH                                   2\n",
      "DUMP                                               2\n",
      "BATTERY_STATS                                      2\n",
      "ACCESS_COARSE_LOCATION                             2\n",
      "SET_TIME                                           2\n",
      "android.intent.action.SENDTO                       2\n",
      "WRITE_SOCIAL_STREAM                                2\n",
      "WRITE_SETTINGS                                     2\n",
      "REBOOT                                             2\n",
      "BLUETOOTH_ADMIN                                    2\n",
      "TelephonyManager.getNetworkOperator                2\n",
      "/system/bin                                        2\n",
      "MessengerService                                   2\n",
      "BIND_DEVICE_ADMIN                                  2\n",
      "WRITE_GSERVICES                                    2\n",
      "IRemoteService                                     2\n",
      "KILL_BACKGROUND_PROCESSES                          2\n",
      "SET_ALARM                                          2\n",
      "ACCOUNT_MANAGER                                    2\n",
      "/system/app                                        2\n",
      "android.intent.action.CALL                         2\n",
      "STATUS_BAR                                         2\n",
      "TelephonyManager.getSimOperator                    2\n",
      "PERSISTENT_ACTIVITY                                2\n",
      "CHANGE_NETWORK_STATE                               2\n",
      "onBind                                             2\n",
      "Process.start                                      2\n",
      "android.intent.action.SCREEN_ON                    2\n",
      "Context.bindService                                2\n",
      "RECEIVE_MMS                                        2\n",
      "SET_TIME_ZONE                                      2\n",
      "android.intent.action.BATTERY_OKAY                 2\n",
      "CONTROL_LOCATION_UPDATES                           2\n",
      "BROADCAST_WAP_PUSH                                 2\n",
      "BIND_ACCESSIBILITY_SERVICE                         2\n",
      "ADD_VOICEMAIL                                      2\n",
      "CALL_PHONE                                         2\n",
      "ProcessBuilder                                     2\n",
      "BIND_APPWIDGET                                     2\n",
      "FLASHLIGHT                                         2\n",
      "READ_LOGS                                          2\n",
      "Ljava.lang.Class.getResource                       2\n",
      "defineClass                                        2\n",
      "SET_PROCESS_LIMIT                                  2\n",
      "android.intent.action.PACKAGE_RESTARTED            2\n",
      "MOUNT_UNMOUNT_FILESYSTEMS                          2\n",
      "BIND_TEXT_SERVICE                                  2\n",
      "INSTALL_LOCATION_PROVIDER                          2\n",
      "android.intent.action.CALL_BUTTON                  2\n",
      "android.intent.action.SCREEN_OFF                   2\n",
      "findClass                                          2\n",
      "SYSTEM_ALERT_WINDOW                                2\n",
      "MOUNT_FORMAT_FILESYSTEMS                           2\n",
      "CHANGE_CONFIGURATION                               2\n",
      "CLEAR_APP_USER_DATA                                2\n",
      "intent.action.RUN                                  2\n",
      "android.intent.action.SET_WALLPAPER                2\n",
      "CHANGE_WIFI_STATE                                  2\n",
      "READ_FRAME_BUFFER                                  2\n",
      "ACCESS_SURFACE_FLINGER                             2\n",
      "Runtime.loadLibrary                                2\n",
      "BROADCAST_SMS                                      2\n",
      "EXPAND_STATUS_BAR                                  2\n",
      "INTERNAL_SYSTEM_WINDOW                             2\n",
      "android.intent.action.BATTERY_LOW                  2\n",
      "SET_ACTIVITY_WATCHER                               2\n",
      "WRITE_CONTACTS                                     2\n",
      "android.intent.action.ACTION_POWER_CONNECTED       2\n",
      "BIND_VPN_SERVICE                                   2\n",
      "DISABLE_KEYGUARD                                   2\n",
      "ACCESS_MOCK_LOCATION                               2\n",
      "GET_PACKAGE_SIZE                                   2\n",
      "MODIFY_PHONE_STATE                                 2\n",
      "CHANGE_COMPONENT_ENABLED_STATE                     2\n",
      "CLEAR_APP_CACHE                                    2\n",
      "SET_ORIENTATION                                    2\n",
      "READ_CONTACTS                                      2\n",
      "DEVICE_POWER                                       2\n",
      "HARDWARE_TEST                                      2\n",
      "ACCESS_WIFI_STATE                                  2\n",
      "WRITE_EXTERNAL_STORAGE                             2\n",
      "ACCESS_FINE_LOCATION                               2\n",
      "SET_WALLPAPER_HINTS                                2\n",
      "SET_PREFERRED_APPLICATIONS                         2\n",
      "WRITE_SECURE_SETTINGS                              2\n",
      "class                                              2\n",
      "dtype: int64\n"
     ]
    }
   ],
   "source": [
    "with pd.option_context('display.max_rows', None, 'display.max_columns', None):\n",
    "    print(data.nunique())"
   ]
  },
  {
   "cell_type": "markdown",
   "metadata": {},
   "source": [
    "Se reafirma nuestra hipótesis, por lo que, no tenemos que analizar si nuestro conjunto de datos tiene outliers. Lo que si que deberíamos ver si hay datos faltantes."
   ]
  },
  {
   "cell_type": "markdown",
   "metadata": {},
   "source": [
    "#### Datos faltantes"
   ]
  },
  {
   "cell_type": "code",
   "execution_count": 17,
   "metadata": {},
   "outputs": [
    {
     "name": "stdout",
     "output_type": "stream",
     "text": [
      "Columnas con valores nulos:\n",
      "Series([], dtype: int64)\n"
     ]
    }
   ],
   "source": [
    "missing_values = data.isnull().sum()\n",
    "columns_with_missing_values = missing_values[missing_values > 0]\n",
    "print(\"Columnas con valores nulos:\")\n",
    "print(columns_with_missing_values)"
   ]
  },
  {
   "cell_type": "markdown",
   "metadata": {},
   "source": [
    "Por lo que se puede apreciar no hay datos faltantes en el conjunto de datos. "
   ]
  },
  {
   "cell_type": "markdown",
   "metadata": {},
   "source": [
    "Como nuestras variables son todas categóricas no se tiene que normalizar nuestro conjunto de datos."
   ]
  },
  {
   "cell_type": "markdown",
   "metadata": {},
   "source": [
    "#### Duplicados"
   ]
  },
  {
   "cell_type": "code",
   "execution_count": 18,
   "metadata": {},
   "outputs": [
    {
     "data": {
      "text/plain": [
       "7786"
      ]
     },
     "execution_count": 18,
     "metadata": {},
     "output_type": "execute_result"
    }
   ],
   "source": [
    "data.duplicated().sum()"
   ]
  },
  {
   "cell_type": "markdown",
   "metadata": {},
   "source": [
    "Se deberían de eleminar los datos que están duplicados. Por lo que, vamos a hacerlo. Pero deberíamos tener en cuenta que a lo mejor no son duplicados, sino diferentes apps que contienen la misma información. Por lo que se recomienta hacer un análisis posteriori con todo el número de observaciones."
   ]
  },
  {
   "cell_type": "code",
   "execution_count": 19,
   "metadata": {},
   "outputs": [
    {
     "name": "stdout",
     "output_type": "stream",
     "text": [
      "Número de duplicados después de eliminar: 0\n"
     ]
    }
   ],
   "source": [
    "data = data.drop_duplicates()\n",
    "print(\"Número de duplicados después de eliminar:\", data.duplicated().sum())"
   ]
  },
  {
   "cell_type": "code",
   "execution_count": 20,
   "metadata": {},
   "outputs": [
    {
     "data": {
      "text/plain": [
       "5530"
      ]
     },
     "execution_count": 20,
     "metadata": {},
     "output_type": "execute_result"
    }
   ],
   "source": [
    "len(data[data['class']==0])"
   ]
  },
  {
   "cell_type": "code",
   "execution_count": 21,
   "metadata": {},
   "outputs": [
    {
     "data": {
      "text/plain": [
       "1720"
      ]
     },
     "execution_count": 21,
     "metadata": {},
     "output_type": "execute_result"
    }
   ],
   "source": [
    "len(data[data['class']==1])"
   ]
  },
  {
   "cell_type": "markdown",
   "metadata": {},
   "source": [
    "#### Técnica de reducción de dimensionalidad (PCA)"
   ]
  },
  {
   "cell_type": "code",
   "execution_count": 22,
   "metadata": {},
   "outputs": [
    {
     "data": {
      "text/html": [
       "<div>\n",
       "<style scoped>\n",
       "    .dataframe tbody tr th:only-of-type {\n",
       "        vertical-align: middle;\n",
       "    }\n",
       "\n",
       "    .dataframe tbody tr th {\n",
       "        vertical-align: top;\n",
       "    }\n",
       "\n",
       "    .dataframe thead th {\n",
       "        text-align: right;\n",
       "    }\n",
       "</style>\n",
       "<table border=\"1\" class=\"dataframe\">\n",
       "  <thead>\n",
       "    <tr style=\"text-align: right;\">\n",
       "      <th></th>\n",
       "      <th>PC1</th>\n",
       "      <th>PC2</th>\n",
       "      <th>PC3</th>\n",
       "      <th>PC4</th>\n",
       "      <th>PC5</th>\n",
       "      <th>PC6</th>\n",
       "      <th>class</th>\n",
       "    </tr>\n",
       "  </thead>\n",
       "  <tbody>\n",
       "    <tr>\n",
       "      <th>0</th>\n",
       "      <td>-7.287400</td>\n",
       "      <td>0.857439</td>\n",
       "      <td>0.466941</td>\n",
       "      <td>-0.135969</td>\n",
       "      <td>-1.352249</td>\n",
       "      <td>0.613752</td>\n",
       "      <td>1</td>\n",
       "    </tr>\n",
       "    <tr>\n",
       "      <th>1</th>\n",
       "      <td>-6.472698</td>\n",
       "      <td>1.720508</td>\n",
       "      <td>-0.520635</td>\n",
       "      <td>-0.726642</td>\n",
       "      <td>-2.330963</td>\n",
       "      <td>0.595602</td>\n",
       "      <td>1</td>\n",
       "    </tr>\n",
       "    <tr>\n",
       "      <th>2</th>\n",
       "      <td>-6.387390</td>\n",
       "      <td>0.173910</td>\n",
       "      <td>-0.011802</td>\n",
       "      <td>-1.108093</td>\n",
       "      <td>-1.204296</td>\n",
       "      <td>1.104134</td>\n",
       "      <td>1</td>\n",
       "    </tr>\n",
       "    <tr>\n",
       "      <th>3</th>\n",
       "      <td>0.630611</td>\n",
       "      <td>1.545746</td>\n",
       "      <td>-5.869312</td>\n",
       "      <td>-2.519437</td>\n",
       "      <td>2.110931</td>\n",
       "      <td>-3.286196</td>\n",
       "      <td>1</td>\n",
       "    </tr>\n",
       "    <tr>\n",
       "      <th>4</th>\n",
       "      <td>-3.811059</td>\n",
       "      <td>0.012177</td>\n",
       "      <td>-2.021127</td>\n",
       "      <td>-6.279619</td>\n",
       "      <td>1.674965</td>\n",
       "      <td>4.189504</td>\n",
       "      <td>1</td>\n",
       "    </tr>\n",
       "  </tbody>\n",
       "</table>\n",
       "</div>"
      ],
      "text/plain": [
       "        PC1       PC2       PC3       PC4       PC5       PC6  class\n",
       "0 -7.287400  0.857439  0.466941 -0.135969 -1.352249  0.613752      1\n",
       "1 -6.472698  1.720508 -0.520635 -0.726642 -2.330963  0.595602      1\n",
       "2 -6.387390  0.173910 -0.011802 -1.108093 -1.204296  1.104134      1\n",
       "3  0.630611  1.545746 -5.869312 -2.519437  2.110931 -3.286196      1\n",
       "4 -3.811059  0.012177 -2.021127 -6.279619  1.674965  4.189504      1"
      ]
     },
     "execution_count": 22,
     "metadata": {},
     "output_type": "execute_result"
    }
   ],
   "source": [
    "from sklearn.decomposition import PCA\n",
    "from sklearn.preprocessing import StandardScaler\n",
    "\n",
    "X = data.drop(columns='class')\n",
    "y = data['class']\n",
    "\n",
    "scaler = StandardScaler()\n",
    "X_std = scaler.fit_transform(X)\n",
    "\n",
    "\n",
    "n_components = 6\n",
    "pca = PCA(n_components=n_components)\n",
    "X_pca = pca.fit_transform(X_std)\n",
    "\n",
    "\n",
    "columns_pca = [f'PC{i}' for i in range(1, n_components + 1)]\n",
    "data_pca = pd.DataFrame(data=X_pca, columns=columns_pca)\n",
    "\n",
    "data_pca['class'] = y.values\n",
    "\n",
    "data_pca.head()"
   ]
  },
  {
   "cell_type": "markdown",
   "metadata": {},
   "source": [
    "Entrenamiento de los modelos"
   ]
  },
  {
   "cell_type": "markdown",
   "metadata": {},
   "source": [
    "Primero obtenemos el conjunto de entrenamiento y prueba."
   ]
  },
  {
   "cell_type": "code",
   "execution_count": 23,
   "metadata": {},
   "outputs": [],
   "source": [
    "from sklearn.model_selection import train_test_split\n",
    "train_data, test_data = train_test_split(data_pca, test_size=0.2, random_state=123)"
   ]
  },
  {
   "cell_type": "markdown",
   "metadata": {},
   "source": [
    "Contruimos un conjunto de entrenamiento balanceado"
   ]
  },
  {
   "cell_type": "code",
   "execution_count": 24,
   "metadata": {},
   "outputs": [],
   "source": [
    "from sklearn.utils import resample\n",
    "clase_0 = train_data[train_data['class']== 0]\n",
    "clase_1 = train_data[train_data['class']== 1]\n",
    "# Submuestrea la clase sobrerrepresentada (en este caso, la clase 0).\n",
    "class_0_subsampled = resample(clase_0, replace=False, n_samples=len(clase_1), random_state=123)\n",
    "\n",
    "# Combina las clases equitativamente.\n",
    "data_train = pd.concat([clase_1, class_0_subsampled])"
   ]
  },
  {
   "cell_type": "code",
   "execution_count": 25,
   "metadata": {},
   "outputs": [
    {
     "data": {
      "text/plain": [
       "1372"
      ]
     },
     "execution_count": 25,
     "metadata": {},
     "output_type": "execute_result"
    }
   ],
   "source": [
    "len(data_train[data_train['class']==0])"
   ]
  },
  {
   "cell_type": "code",
   "execution_count": 26,
   "metadata": {},
   "outputs": [
    {
     "data": {
      "text/plain": [
       "1372"
      ]
     },
     "execution_count": 26,
     "metadata": {},
     "output_type": "execute_result"
    }
   ],
   "source": [
    "len(data_train[data_train['class']==1])"
   ]
  },
  {
   "cell_type": "code",
   "execution_count": 27,
   "metadata": {},
   "outputs": [],
   "source": [
    "labels_train = data_train['class']\n",
    "features_train = data_train.drop(columns='class')\n",
    "labels_test = test_data['class']\n",
    "features_test = test_data.drop(columns='class')"
   ]
  },
  {
   "cell_type": "markdown",
   "metadata": {},
   "source": [
    "#### Implementamos cuántica"
   ]
  },
  {
   "cell_type": "code",
   "execution_count": 28,
   "metadata": {},
   "outputs": [
    {
     "name": "stdout",
     "output_type": "stream",
     "text": [
      "Requirement already satisfied: pylatexenc in c:\\users\\estre\\anaconda3\\lib\\site-packages (2.10)\n"
     ]
    }
   ],
   "source": [
    "!pip install pylatexenc"
   ]
  },
  {
   "cell_type": "code",
   "execution_count": 29,
   "metadata": {},
   "outputs": [
    {
     "name": "stdout",
     "output_type": "stream",
     "text": [
      "Requirement already satisfied: openpyxl in c:\\users\\estre\\anaconda3\\lib\\site-packages (3.0.10)\n",
      "Requirement already satisfied: et_xmlfile in c:\\users\\estre\\anaconda3\\lib\\site-packages (from openpyxl) (1.1.0)\n"
     ]
    }
   ],
   "source": [
    "!pip install openpyxl"
   ]
  },
  {
   "cell_type": "code",
   "execution_count": 30,
   "metadata": {},
   "outputs": [
    {
     "name": "stdout",
     "output_type": "stream",
     "text": [
      "Requirement already satisfied: qiskit in c:\\users\\estre\\anaconda3\\lib\\site-packages (1.1.0)\n",
      "Requirement already satisfied: rustworkx>=0.14.0 in c:\\users\\estre\\anaconda3\\lib\\site-packages (from qiskit) (0.14.2)\n",
      "Requirement already satisfied: numpy<3,>=1.17 in c:\\users\\estre\\anaconda3\\lib\\site-packages (from qiskit) (1.24.3)\n",
      "Requirement already satisfied: scipy>=1.5 in c:\\users\\estre\\anaconda3\\lib\\site-packages (from qiskit) (1.13.1)\n",
      "Requirement already satisfied: sympy>=1.3 in c:\\users\\estre\\anaconda3\\lib\\site-packages (from qiskit) (1.12)\n",
      "Requirement already satisfied: dill>=0.3 in c:\\users\\estre\\anaconda3\\lib\\site-packages (from qiskit) (0.3.7)\n",
      "Requirement already satisfied: python-dateutil>=2.8.0 in c:\\users\\estre\\appdata\\roaming\\python\\python311\\site-packages (from qiskit) (2.8.2)\n",
      "Requirement already satisfied: stevedore>=3.0.0 in c:\\users\\estre\\anaconda3\\lib\\site-packages (from qiskit) (5.2.0)\n",
      "Requirement already satisfied: typing-extensions in c:\\users\\estre\\anaconda3\\lib\\site-packages (from qiskit) (4.9.0)\n",
      "Requirement already satisfied: symengine>=0.11 in c:\\users\\estre\\anaconda3\\lib\\site-packages (from qiskit) (0.11.0)\n",
      "Requirement already satisfied: six>=1.5 in c:\\users\\estre\\appdata\\roaming\\python\\python311\\site-packages (from python-dateutil>=2.8.0->qiskit) (1.16.0)\n",
      "Requirement already satisfied: pbr!=2.1.0,>=2.0.0 in c:\\users\\estre\\anaconda3\\lib\\site-packages (from stevedore>=3.0.0->qiskit) (6.0.0)\n",
      "Requirement already satisfied: mpmath>=0.19 in c:\\users\\estre\\anaconda3\\lib\\site-packages (from sympy>=1.3->qiskit) (1.3.0)\n"
     ]
    }
   ],
   "source": [
    "!pip install qiskit"
   ]
  },
  {
   "cell_type": "markdown",
   "metadata": {},
   "source": [
    "Implementamos el SVC"
   ]
  },
  {
   "cell_type": "code",
   "execution_count": 31,
   "metadata": {},
   "outputs": [],
   "source": [
    "from sklearn.svm import SVC\n",
    "from sklearn.metrics import confusion_matrix\n",
    "\n",
    "svc = SVC()\n",
    "_ = svc.fit(features_train, labels_train)  "
   ]
  },
  {
   "cell_type": "code",
   "execution_count": 32,
   "metadata": {},
   "outputs": [
    {
     "data": {
      "image/png": "[encoded data removed]",
      "text/plain": [
       "<Figure size 640x480 with 2 Axes>"
      ]
     },
     "metadata": {},
     "output_type": "display_data"
    }
   ],
   "source": [
    "predictions = svc.predict(features_test)\n",
    "import matplotlib.pyplot as plot\n",
    "import seaborn as sns\n",
    "confusion = confusion_matrix(labels_test, predictions)\n",
    "sns.heatmap(confusion, annot = True, cmap = \"Blues\", fmt = \"d\")\n",
    "plot.xlabel(\"Predict values\")\n",
    "plot.ylabel(\"Real values\")\n",
    "plot.title(\"Confusion Matrix (SVC)\")\n",
    "plot.show()"
   ]
  },
  {
   "cell_type": "code",
   "execution_count": 33,
   "metadata": {},
   "outputs": [
    {
     "name": "stdout",
     "output_type": "stream",
     "text": [
      "Classical SVC on the training dataset: 0.92\n",
      "Classical SVC on the test dataset:     0.93\n"
     ]
    }
   ],
   "source": [
    "train_score_c4 = svc.score(features_train, labels_train)\n",
    "test_score_c4 = svc.score(features_test, labels_test)\n",
    "\n",
    "\n",
    "print(f\"Classical SVC on the training dataset: {train_score_c4:.2f}\")\n",
    "print(f\"Classical SVC on the test dataset:     {test_score_c4:.2f}\")"
   ]
  },
  {
   "cell_type": "code",
   "execution_count": 34,
   "metadata": {},
   "outputs": [
    {
     "name": "stdout",
     "output_type": "stream",
     "text": [
      "              precision    recall  f1-score   support\n",
      "\n",
      "           0   0.969840  0.933757  0.951456      1102\n",
      "           1   0.812339  0.908046  0.857531       348\n",
      "\n",
      "    accuracy                       0.927586      1450\n",
      "   macro avg   0.891090  0.920901  0.904493      1450\n",
      "weighted avg   0.932040  0.927586  0.928914      1450\n",
      "\n"
     ]
    }
   ],
   "source": [
    "from sklearn.metrics import classification_report\n",
    "print(classification_report(labels_test, predictions, digits=6))"
   ]
  },
  {
   "cell_type": "markdown",
   "metadata": {},
   "source": [
    "VQC"
   ]
  },
  {
   "cell_type": "code",
   "execution_count": 38,
   "metadata": {},
   "outputs": [],
   "source": [
    "features = data_pca.drop(columns='class')"
   ]
  },
  {
   "cell_type": "code",
   "execution_count": 39,
   "metadata": {},
   "outputs": [],
   "source": [
    "num_features = features.shape[1]"
   ]
  },
  {
   "cell_type": "markdown",
   "metadata": {},
   "source": [
    "## SPSA"
   ]
  },
  {
   "cell_type": "code",
   "execution_count": 40,
   "metadata": {},
   "outputs": [
    {
     "name": "stdout",
     "output_type": "stream",
     "text": [
      "Collecting qiskit-terra\n",
      "  Using cached qiskit_terra-0.46.1-cp38-abi3-win_amd64.whl.metadata (12 kB)\n",
      "Collecting qiskit-aqua\n",
      "  Using cached qiskit_aqua-0.9.5-py3-none-any.whl.metadata (2.6 kB)\n",
      "Requirement already satisfied: rustworkx>=0.13.0 in c:\\users\\estre\\anaconda3\\lib\\site-packages (from qiskit-terra) (0.14.2)\n",
      "Requirement already satisfied: numpy<2,>=1.17 in c:\\users\\estre\\anaconda3\\lib\\site-packages (from qiskit-terra) (1.24.3)\n",
      "Requirement already satisfied: ply>=3.10 in c:\\users\\estre\\anaconda3\\lib\\site-packages (from qiskit-terra) (3.11)\n",
      "Requirement already satisfied: psutil>=5 in c:\\users\\estre\\appdata\\roaming\\python\\python311\\site-packages (from qiskit-terra) (5.9.8)\n",
      "Requirement already satisfied: scipy>=1.5 in c:\\users\\estre\\anaconda3\\lib\\site-packages (from qiskit-terra) (1.13.1)\n",
      "Requirement already satisfied: sympy>=1.3 in c:\\users\\estre\\anaconda3\\lib\\site-packages (from qiskit-terra) (1.12)\n",
      "Requirement already satisfied: dill>=0.3 in c:\\users\\estre\\anaconda3\\lib\\site-packages (from qiskit-terra) (0.3.7)\n",
      "Requirement already satisfied: python-dateutil>=2.8.0 in c:\\users\\estre\\appdata\\roaming\\python\\python311\\site-packages (from qiskit-terra) (2.8.2)\n",
      "Requirement already satisfied: stevedore>=3.0.0 in c:\\users\\estre\\anaconda3\\lib\\site-packages (from qiskit-terra) (5.2.0)\n",
      "Collecting qiskit-ignis>=0.6.0 (from qiskit-aqua)\n",
      "  Using cached qiskit_ignis-0.7.1-py3-none-any.whl.metadata (10 kB)\n",
      "Requirement already satisfied: scikit-learn>=0.20.0 in c:\\users\\estre\\anaconda3\\lib\\site-packages (from qiskit-aqua) (1.2.2)\n",
      "Collecting dlx<=1.0.4 (from qiskit-aqua)\n",
      "  Using cached dlx-1.0.4.tar.gz (5.5 kB)\n",
      "  Preparing metadata (setup.py): started\n",
      "  Preparing metadata (setup.py): finished with status 'done'\n",
      "Collecting docplex>=2.21.207 (from qiskit-aqua)\n",
      "  Using cached docplex-2.27.239.tar.gz (635 kB)\n",
      "  Installing build dependencies: started\n",
      "  Installing build dependencies: finished with status 'done'\n",
      "  Getting requirements to build wheel: started\n",
      "  Getting requirements to build wheel: finished with status 'done'\n",
      "  Installing backend dependencies: started\n",
      "  Installing backend dependencies: finished with status 'done'\n",
      "  Preparing metadata (pyproject.toml): started\n",
      "  Preparing metadata (pyproject.toml): finished with status 'done'\n",
      "Requirement already satisfied: fastdtw<=0.3.4 in c:\\users\\estre\\anaconda3\\lib\\site-packages (from qiskit-aqua) (0.3.4)\n",
      "Requirement already satisfied: setuptools>=40.1.0 in c:\\users\\estre\\anaconda3\\lib\\site-packages (from qiskit-aqua) (68.2.2)\n",
      "Collecting h5py<3.3.0 (from qiskit-aqua)\n",
      "  Using cached h5py-3.2.1.tar.gz (368 kB)\n",
      "  Installing build dependencies: started\n",
      "  Installing build dependencies: finished with status 'done'\n",
      "  Getting requirements to build wheel: started\n",
      "  Getting requirements to build wheel: finished with status 'done'\n",
      "  Installing backend dependencies: started\n",
      "  Installing backend dependencies: finished with status 'error'\n"
     ]
    },
    {
     "name": "stderr",
     "output_type": "stream",
     "text": [
      "  error: subprocess-exited-with-error\n",
      "  \n",
      "  × pip subprocess to install backend dependencies did not run successfully.\n",
      "  │ exit code: 1\n",
      "  ╰─> [229 lines of output]\n",
      "      Collecting pkgconfig\n",
      "        Downloading pkgconfig-1.5.5-py3-none-any.whl.metadata (4.0 kB)\n",
      "      Collecting Cython>=0.29.15\n",
      "        Using cached Cython-3.0.10-cp311-cp311-win_amd64.whl.metadata (3.2 kB)\n",
      "      Collecting numpy==1.19.3\n",
      "        Using cached numpy-1.19.3.zip (7.3 MB)\n",
      "        Installing build dependencies: started\n",
      "        Installing build dependencies: finished with status 'done'\n",
      "        Getting requirements to build wheel: started\n",
      "        Getting requirements to build wheel: finished with status 'done'\n",
      "        Preparing metadata (pyproject.toml): started\n",
      "        Preparing metadata (pyproject.toml): finished with status 'error'\n",
      "        error: subprocess-exited-with-error\n",
      "      \n",
      "        × Preparing metadata (pyproject.toml) did not run successfully.\n",
      "        │ exit code: 1\n",
      "        ╰─> [202 lines of output]\n",
      "            setup.py:67: RuntimeWarning: NumPy 1.19.3 may not yet support Python 3.11.\n",
      "              warnings.warn(\n",
      "            Running from numpy source directory.\n",
      "            setup.py:480: UserWarning: Unrecognized setuptools command, proceeding with generating Cython sources and expanding templates\n",
      "              run_build = parse_setuppy_commands()\n",
      "            Cythonizing sources\n",
      "            Processing numpy/random\\_bounded_integers.pxd.in\n",
      "            Processing numpy/random\\bit_generator.pyx\n",
      "            Processing numpy/random\\mtrand.pyx\n",
      "            Processing numpy/random\\_bounded_integers.pyx.in\n",
      "            Processing numpy/random\\_common.pyx\n",
      "            Processing numpy/random\\_generator.pyx\n",
      "            Processing numpy/random\\_mt19937.pyx\n",
      "            Processing numpy/random\\_pcg64.pyx\n",
      "            Processing numpy/random\\_philox.pyx\n",
      "            Processing numpy/random\\_sfc64.pyx\n",
      "            blas_opt_info:\n",
      "            blas_mkl_info:\n",
      "            No module named 'numpy.distutils._msvccompiler' in numpy.distutils; trying from distutils\n",
      "            customize MSVCCompiler\n",
      "              libraries mkl_rt not found in ['C:\\\\Users\\\\estre\\\\anaconda3\\\\lib', 'C:\\\\', 'C:\\\\Users\\\\estre\\\\anaconda3\\\\libs']\n",
      "              NOT AVAILABLE\n",
      "      \n",
      "            blis_info:\n",
      "              libraries blis not found in ['C:\\\\Users\\\\estre\\\\anaconda3\\\\lib', 'C:\\\\', 'C:\\\\Users\\\\estre\\\\anaconda3\\\\libs']\n",
      "              NOT AVAILABLE\n",
      "      \n",
      "            openblas_info:\n",
      "              libraries openblas not found in ['C:\\\\Users\\\\estre\\\\anaconda3\\\\lib', 'C:\\\\', 'C:\\\\Users\\\\estre\\\\anaconda3\\\\libs']\n",
      "            get_default_fcompiler: matching types: '['gnu', 'intelv', 'absoft', 'compaqv', 'intelev', 'gnu95', 'g95', 'intelvem', 'intelem', 'flang']'\n",
      "            customize GnuFCompiler\n",
      "            Could not locate executable g77\n",
      "            Could not locate executable f77\n",
      "            customize IntelVisualFCompiler\n",
      "            Could not locate executable ifort\n",
      "            Could not locate executable ifl\n",
      "            customize AbsoftFCompiler\n",
      "            Could not locate executable f90\n",
      "            customize CompaqVisualFCompiler\n",
      "            Could not locate executable DF\n",
      "            customize IntelItaniumVisualFCompiler\n",
      "            Could not locate executable efl\n",
      "            customize Gnu95FCompiler\n",
      "            Could not locate executable gfortran\n",
      "            Could not locate executable f95\n",
      "            customize G95FCompiler\n",
      "            Could not locate executable g95\n",
      "            customize IntelEM64VisualFCompiler\n",
      "            customize IntelEM64TFCompiler\n",
      "            Could not locate executable efort\n",
      "            Could not locate executable efc\n",
      "            customize PGroupFlangCompiler\n",
      "            Could not locate executable flang\n",
      "            don't know how to compile Fortran code on platform 'nt'\n",
      "              NOT AVAILABLE\n",
      "      \n",
      "            atlas_3_10_blas_threads_info:\n",
      "            Setting PTATLAS=ATLAS\n",
      "              libraries tatlas not found in ['C:\\\\Users\\\\estre\\\\anaconda3\\\\lib', 'C:\\\\', 'C:\\\\Users\\\\estre\\\\anaconda3\\\\libs']\n",
      "              NOT AVAILABLE\n",
      "      \n",
      "            atlas_3_10_blas_info:\n",
      "              libraries satlas not found in ['C:\\\\Users\\\\estre\\\\anaconda3\\\\lib', 'C:\\\\', 'C:\\\\Users\\\\estre\\\\anaconda3\\\\libs']\n",
      "              NOT AVAILABLE\n",
      "      \n",
      "            atlas_blas_threads_info:\n",
      "            Setting PTATLAS=ATLAS\n",
      "              libraries ptf77blas,ptcblas,atlas not found in ['C:\\\\Users\\\\estre\\\\anaconda3\\\\lib', 'C:\\\\', 'C:\\\\Users\\\\estre\\\\anaconda3\\\\libs']\n",
      "              NOT AVAILABLE\n",
      "      \n",
      "            atlas_blas_info:\n",
      "              libraries f77blas,cblas,atlas not found in ['C:\\\\Users\\\\estre\\\\anaconda3\\\\lib', 'C:\\\\', 'C:\\\\Users\\\\estre\\\\anaconda3\\\\libs']\n",
      "              NOT AVAILABLE\n",
      "      \n",
      "            accelerate_info:\n",
      "              NOT AVAILABLE\n",
      "      \n",
      "            C:\\Users\\estre\\AppData\\Local\\Temp\\pip-install-nnudyoyw\\numpy_d18843338cd34b07b45fc0a67884d62e\\numpy\\distutils\\system_info.py:1914: UserWarning:\n",
      "                Optimized (vendor) Blas libraries are not found.\n",
      "                Falls back to netlib Blas library which has worse performance.\n",
      "                A better performance should be easily gained by switching\n",
      "                Blas library.\n",
      "              if self._calc_info(blas):\n",
      "            blas_info:\n",
      "              libraries blas not found in ['C:\\\\Users\\\\estre\\\\anaconda3\\\\lib', 'C:\\\\', 'C:\\\\Users\\\\estre\\\\anaconda3\\\\libs']\n",
      "              NOT AVAILABLE\n",
      "      \n",
      "            C:\\Users\\estre\\AppData\\Local\\Temp\\pip-install-nnudyoyw\\numpy_d18843338cd34b07b45fc0a67884d62e\\numpy\\distutils\\system_info.py:1914: UserWarning:\n",
      "                Blas (http://www.netlib.org/blas/) libraries not found.\n",
      "                Directories to search for the libraries can be specified in the\n",
      "                numpy/distutils/site.cfg file (section [blas]) or by setting\n",
      "                the BLAS environment variable.\n",
      "              if self._calc_info(blas):\n",
      "            blas_src_info:\n",
      "              NOT AVAILABLE\n",
      "      \n",
      "            C:\\Users\\estre\\AppData\\Local\\Temp\\pip-install-nnudyoyw\\numpy_d18843338cd34b07b45fc0a67884d62e\\numpy\\distutils\\system_info.py:1914: UserWarning:\n",
      "                Blas (http://www.netlib.org/blas/) sources not found.\n",
      "                Directories to search for the sources can be specified in the\n",
      "                numpy/distutils/site.cfg file (section [blas_src]) or by setting\n",
      "                the BLAS_SRC environment variable.\n",
      "              if self._calc_info(blas):\n",
      "              NOT AVAILABLE\n",
      "      \n",
      "            non-existing path in 'numpy\\\\distutils': 'site.cfg'\n",
      "            lapack_opt_info:\n",
      "            lapack_mkl_info:\n",
      "              libraries mkl_rt not found in ['C:\\\\Users\\\\estre\\\\anaconda3\\\\lib', 'C:\\\\', 'C:\\\\Users\\\\estre\\\\anaconda3\\\\libs']\n",
      "              NOT AVAILABLE\n",
      "      \n",
      "            openblas_lapack_info:\n",
      "              libraries openblas not found in ['C:\\\\Users\\\\estre\\\\anaconda3\\\\lib', 'C:\\\\', 'C:\\\\Users\\\\estre\\\\anaconda3\\\\libs']\n",
      "              NOT AVAILABLE\n",
      "      \n",
      "            openblas_clapack_info:\n",
      "              libraries openblas,lapack not found in ['C:\\\\Users\\\\estre\\\\anaconda3\\\\lib', 'C:\\\\', 'C:\\\\Users\\\\estre\\\\anaconda3\\\\libs']\n",
      "              NOT AVAILABLE\n",
      "      \n",
      "            flame_info:\n",
      "              libraries flame not found in ['C:\\\\Users\\\\estre\\\\anaconda3\\\\lib', 'C:\\\\', 'C:\\\\Users\\\\estre\\\\anaconda3\\\\libs']\n",
      "              NOT AVAILABLE\n",
      "      \n",
      "            atlas_3_10_threads_info:\n",
      "            Setting PTATLAS=ATLAS\n",
      "              libraries lapack_atlas not found in C:\\Users\\estre\\anaconda3\\lib\n",
      "              libraries tatlas,tatlas not found in C:\\Users\\estre\\anaconda3\\lib\n",
      "              libraries lapack_atlas not found in C:\\\n",
      "              libraries tatlas,tatlas not found in C:\\\n",
      "              libraries lapack_atlas not found in C:\\Users\\estre\\anaconda3\\libs\n",
      "              libraries tatlas,tatlas not found in C:\\Users\\estre\\anaconda3\\libs\n",
      "            <class 'numpy.distutils.system_info.atlas_3_10_threads_info'>\n",
      "              NOT AVAILABLE\n",
      "      \n",
      "            atlas_3_10_info:\n",
      "              libraries lapack_atlas not found in C:\\Users\\estre\\anaconda3\\lib\n",
      "              libraries satlas,satlas not found in C:\\Users\\estre\\anaconda3\\lib\n",
      "              libraries lapack_atlas not found in C:\\\n",
      "              libraries satlas,satlas not found in C:\\\n",
      "              libraries lapack_atlas not found in C:\\Users\\estre\\anaconda3\\libs\n",
      "              libraries satlas,satlas not found in C:\\Users\\estre\\anaconda3\\libs\n",
      "            <class 'numpy.distutils.system_info.atlas_3_10_info'>\n",
      "              NOT AVAILABLE\n",
      "      \n",
      "            atlas_threads_info:\n",
      "            Setting PTATLAS=ATLAS\n",
      "              libraries lapack_atlas not found in C:\\Users\\estre\\anaconda3\\lib\n",
      "              libraries ptf77blas,ptcblas,atlas not found in C:\\Users\\estre\\anaconda3\\lib\n",
      "              libraries lapack_atlas not found in C:\\\n",
      "              libraries ptf77blas,ptcblas,atlas not found in C:\\\n",
      "              libraries lapack_atlas not found in C:\\Users\\estre\\anaconda3\\libs\n",
      "              libraries ptf77blas,ptcblas,atlas not found in C:\\Users\\estre\\anaconda3\\libs\n",
      "            <class 'numpy.distutils.system_info.atlas_threads_info'>\n",
      "              NOT AVAILABLE\n",
      "      \n",
      "            atlas_info:\n",
      "              libraries lapack_atlas not found in C:\\Users\\estre\\anaconda3\\lib\n",
      "              libraries f77blas,cblas,atlas not found in C:\\Users\\estre\\anaconda3\\lib\n",
      "              libraries lapack_atlas not found in C:\\\n",
      "              libraries f77blas,cblas,atlas not found in C:\\\n",
      "              libraries lapack_atlas not found in C:\\Users\\estre\\anaconda3\\libs\n",
      "              libraries f77blas,cblas,atlas not found in C:\\Users\\estre\\anaconda3\\libs\n",
      "            <class 'numpy.distutils.system_info.atlas_info'>\n",
      "              NOT AVAILABLE\n",
      "      \n",
      "            lapack_info:\n",
      "              libraries lapack not found in ['C:\\\\Users\\\\estre\\\\anaconda3\\\\lib', 'C:\\\\', 'C:\\\\Users\\\\estre\\\\anaconda3\\\\libs']\n",
      "              NOT AVAILABLE\n",
      "      \n",
      "            C:\\Users\\estre\\AppData\\Local\\Temp\\pip-install-nnudyoyw\\numpy_d18843338cd34b07b45fc0a67884d62e\\numpy\\distutils\\system_info.py:1748: UserWarning:\n",
      "                Lapack (http://www.netlib.org/lapack/) libraries not found.\n",
      "                Directories to search for the libraries can be specified in the\n",
      "                numpy/distutils/site.cfg file (section [lapack]) or by setting\n",
      "                the LAPACK environment variable.\n",
      "              return getattr(self, '_calc_info_{}'.format(name))()\n",
      "            lapack_src_info:\n",
      "              NOT AVAILABLE\n",
      "      \n",
      "            C:\\Users\\estre\\AppData\\Local\\Temp\\pip-install-nnudyoyw\\numpy_d18843338cd34b07b45fc0a67884d62e\\numpy\\distutils\\system_info.py:1748: UserWarning:\n",
      "                Lapack (http://www.netlib.org/lapack/) sources not found.\n",
      "                Directories to search for the sources can be specified in the\n",
      "                numpy/distutils/site.cfg file (section [lapack_src]) or by setting\n",
      "                the LAPACK_SRC environment variable.\n",
      "              return getattr(self, '_calc_info_{}'.format(name))()\n",
      "              NOT AVAILABLE\n",
      "      \n",
      "            numpy_linalg_lapack_lite:\n",
      "              FOUND:\n",
      "                language = c\n",
      "                define_macros = [('HAVE_BLAS_ILP64', None), ('BLAS_SYMBOL_SUFFIX', '64_')]\n",
      "      \n",
      "            C:\\Users\\estre\\AppData\\Local\\Temp\\pip-build-env-du2236ay\\overlay\\Lib\\site-packages\\setuptools\\_distutils\\dist.py:275: UserWarning: Unknown distribution option: 'define_macros'\n",
      "              warnings.warn(msg)\n",
      "            running dist_info\n",
      "            running build_src\n",
      "            build_src\n",
      "            building py_modules sources\n",
      "            creating build\n",
      "            creating build\\src.win-amd64-3.11\n",
      "            creating build\\src.win-amd64-3.11\\numpy\n",
      "            creating build\\src.win-amd64-3.11\\numpy\\distutils\n",
      "            building library \"npymath\" sources\n",
      "            error: Microsoft Visual C++ 14.0 is required. Get it with \"Build Tools for Visual Studio\": https://visualstudio.microsoft.com/downloads/\n",
      "            [end of output]\n",
      "      \n",
      "        note: This error originates from a subprocess, and is likely not a problem with pip.\n",
      "      error: metadata-generation-failed\n",
      "      \n",
      "      × Encountered error while generating package metadata.\n",
      "      ╰─> See above for output.\n",
      "      \n",
      "      note: This is an issue with the package mentioned above, not pip.\n",
      "      hint: See above for details.\n",
      "      [end of output]\n",
      "  \n",
      "  note: This error originates from a subprocess, and is likely not a problem with pip.\n",
      "error: subprocess-exited-with-error\n",
      "\n",
      "× pip subprocess to install backend dependencies did not run successfully.\n",
      "│ exit code: 1\n",
      "╰─> See above for output.\n",
      "\n",
      "note: This error originates from a subprocess, and is likely not a problem with pip.\n"
     ]
    }
   ],
   "source": [
    "!pip install qiskit-terra qiskit-aqua"
   ]
  },
  {
   "cell_type": "code",
   "execution_count": 41,
   "metadata": {},
   "outputs": [],
   "source": [
    "from qiskit_algorithms.optimizers import SPSA\n",
    "optimizer = SPSA(maxiter=100)"
   ]
  },
  {
   "cell_type": "code",
   "execution_count": 42,
   "metadata": {},
   "outputs": [
    {
     "data": {
      "image/png": "[encoded data removed]",
      "text/plain": [
       "<Figure size 956.385x535.111 with 1 Axes>"
      ]
     },
     "execution_count": 42,
     "metadata": {},
     "output_type": "execute_result"
    }
   ],
   "source": [
    "from qiskit.circuit.library import RealAmplitudes\n",
    "ansatz = RealAmplitudes(num_qubits=num_features, reps=2)\n",
    "ansatz.decompose().draw(output=\"mpl\", fold=20)"
   ]
  },
  {
   "cell_type": "code",
   "execution_count": 43,
   "metadata": {},
   "outputs": [],
   "source": [
    "from matplotlib import pyplot as plt\n",
    "from IPython.display import clear_output\n",
    "\n",
    "objective_func_vals = []\n",
    "plt.rcParams[\"figure.figsize\"] = (12, 6)\n",
    "\n",
    "\n",
    "def callback_graph(weights, obj_func_eval):\n",
    "    clear_output(wait=True)\n",
    "    objective_func_vals.append(obj_func_eval)\n",
    "    plt.title(\"Objective function value against iteration\")\n",
    "    plt.xlabel(\"Iteration\")\n",
    "    plt.ylabel(\"Objective function value\")\n",
    "    plt.plot(range(len(objective_func_vals)), objective_func_vals)\n",
    "    plt.show()"
   ]
  },
  {
   "cell_type": "code",
   "execution_count": 44,
   "metadata": {},
   "outputs": [],
   "source": [
    "import numpy as np\n",
    "X_train_np = np.array(features_train.values)\n",
    "y_train_np = labels_train.values"
   ]
  },
  {
   "cell_type": "code",
   "execution_count": 45,
   "metadata": {},
   "outputs": [
    {
     "data": {
      "image/png": "[encoded data removed]",
      "text/plain": [
       "<Figure size 454.719x535.111 with 1 Axes>"
      ]
     },
     "execution_count": 45,
     "metadata": {},
     "output_type": "execute_result"
    }
   ],
   "source": [
    "from qiskit.circuit.library import ZFeatureMap\n",
    "import matplotlib.pyplot as plt\n",
    "num_features = features.shape[1]\n",
    "feature_map = ZFeatureMap(feature_dimension=num_features, reps=2)\n",
    "feature_map.decompose().draw(output=\"mpl\", fold=20)"
   ]
  },
  {
   "cell_type": "code",
   "execution_count": 46,
   "metadata": {},
   "outputs": [],
   "source": [
    "from qiskit.primitives import Sampler\n",
    "\n",
    "sampler = Sampler()"
   ]
  },
  {
   "cell_type": "code",
   "execution_count": 47,
   "metadata": {},
   "outputs": [
    {
     "name": "stdout",
     "output_type": "stream",
     "text": [
      "Requirement already satisfied: qiskit-machine-learning in c:\\users\\estre\\anaconda3\\lib\\site-packages (0.7.2)\n",
      "Requirement already satisfied: qiskit>=0.44 in c:\\users\\estre\\anaconda3\\lib\\site-packages (from qiskit-machine-learning) (1.1.0)\n",
      "Requirement already satisfied: qiskit-algorithms>=0.2.0 in c:\\users\\estre\\anaconda3\\lib\\site-packages (from qiskit-machine-learning) (0.3.0)\n",
      "Requirement already satisfied: scipy>=1.4 in c:\\users\\estre\\anaconda3\\lib\\site-packages (from qiskit-machine-learning) (1.13.1)\n",
      "Requirement already satisfied: numpy>=1.17 in c:\\users\\estre\\anaconda3\\lib\\site-packages (from qiskit-machine-learning) (1.24.3)\n",
      "Requirement already satisfied: psutil>=5 in c:\\users\\estre\\appdata\\roaming\\python\\python311\\site-packages (from qiskit-machine-learning) (5.9.8)\n",
      "Requirement already satisfied: scikit-learn>=1.2.0 in c:\\users\\estre\\anaconda3\\lib\\site-packages (from qiskit-machine-learning) (1.2.2)\n",
      "Requirement already satisfied: fastdtw in c:\\users\\estre\\anaconda3\\lib\\site-packages (from qiskit-machine-learning) (0.3.4)\n",
      "Requirement already satisfied: setuptools>=40.1.0 in c:\\users\\estre\\anaconda3\\lib\\site-packages (from qiskit-machine-learning) (68.2.2)\n",
      "Requirement already satisfied: dill>=0.3.4 in c:\\users\\estre\\anaconda3\\lib\\site-packages (from qiskit-machine-learning) (0.3.7)\n",
      "Requirement already satisfied: rustworkx>=0.14.0 in c:\\users\\estre\\anaconda3\\lib\\site-packages (from qiskit>=0.44->qiskit-machine-learning) (0.14.2)\n",
      "Requirement already satisfied: sympy>=1.3 in c:\\users\\estre\\anaconda3\\lib\\site-packages (from qiskit>=0.44->qiskit-machine-learning) (1.12)\n",
      "Requirement already satisfied: python-dateutil>=2.8.0 in c:\\users\\estre\\appdata\\roaming\\python\\python311\\site-packages (from qiskit>=0.44->qiskit-machine-learning) (2.8.2)\n",
      "Requirement already satisfied: stevedore>=3.0.0 in c:\\users\\estre\\anaconda3\\lib\\site-packages (from qiskit>=0.44->qiskit-machine-learning) (5.2.0)\n",
      "Requirement already satisfied: typing-extensions in c:\\users\\estre\\anaconda3\\lib\\site-packages (from qiskit>=0.44->qiskit-machine-learning) (4.9.0)\n",
      "Requirement already satisfied: symengine>=0.11 in c:\\users\\estre\\anaconda3\\lib\\site-packages (from qiskit>=0.44->qiskit-machine-learning) (0.11.0)\n",
      "Requirement already satisfied: joblib>=1.1.1 in c:\\users\\estre\\anaconda3\\lib\\site-packages (from scikit-learn>=1.2.0->qiskit-machine-learning) (1.2.0)\n",
      "Requirement already satisfied: threadpoolctl>=2.0.0 in c:\\users\\estre\\anaconda3\\lib\\site-packages (from scikit-learn>=1.2.0->qiskit-machine-learning) (2.2.0)\n",
      "Requirement already satisfied: six>=1.5 in c:\\users\\estre\\appdata\\roaming\\python\\python311\\site-packages (from python-dateutil>=2.8.0->qiskit>=0.44->qiskit-machine-learning) (1.16.0)\n",
      "Requirement already satisfied: pbr!=2.1.0,>=2.0.0 in c:\\users\\estre\\anaconda3\\lib\\site-packages (from stevedore>=3.0.0->qiskit>=0.44->qiskit-machine-learning) (6.0.0)\n",
      "Requirement already satisfied: mpmath>=0.19 in c:\\users\\estre\\anaconda3\\lib\\site-packages (from sympy>=1.3->qiskit>=0.44->qiskit-machine-learning) (1.3.0)\n"
     ]
    }
   ],
   "source": [
    "!pip install qiskit-machine-learning"
   ]
  },
  {
   "cell_type": "code",
   "execution_count": 48,
   "metadata": {},
   "outputs": [
    {
     "data": {
      "image/png": "[encoded data removed]",
      "text/plain": [
       "<Figure size 1200x600 with 1 Axes>"
      ]
     },
     "metadata": {},
     "output_type": "display_data"
    },
    {
     "name": "stdout",
     "output_type": "stream",
     "text": [
      "Training time: 2292 seconds\n"
     ]
    }
   ],
   "source": [
    "import time\n",
    "from qiskit_machine_learning.algorithms.classifiers import VQC\n",
    "\n",
    "vqc = VQC(\n",
    "    feature_map=feature_map,\n",
    "    sampler=sampler,\n",
    "    ansatz=ansatz,\n",
    "    optimizer=optimizer,\n",
    "    callback= callback_graph,\n",
    ")\n",
    "\n",
    "objective_func_vals = []\n",
    "\n",
    "start = time.time()\n",
    "vqc.fit(X_train_np, y_train_np)\n",
    "elapsed = time.time() - start\n",
    "\n",
    "print(f\"Training time: {round(elapsed)} seconds\")"
   ]
  },
  {
   "cell_type": "code",
   "execution_count": 49,
   "metadata": {},
   "outputs": [],
   "source": [
    "X_test_np = np.array(features_test.values)\n",
    "y_test_np = labels_test.values"
   ]
  },
  {
   "cell_type": "code",
   "execution_count": 50,
   "metadata": {},
   "outputs": [
    {
     "data": {
      "text/plain": [
       "<sklearn.metrics._plot.confusion_matrix.ConfusionMatrixDisplay at 0x2bf2d98c210>"
      ]
     },
     "execution_count": 50,
     "metadata": {},
     "output_type": "execute_result"
    },
    {
     "data": {
      "image/png": "[encoded data removed]",
      "text/plain": [
       "<Figure size 1200x600 with 2 Axes>"
      ]
     },
     "metadata": {},
     "output_type": "display_data"
    }
   ],
   "source": [
    "import matplotlib.pyplot as plot\n",
    "from sklearn.metrics import confusion_matrix\n",
    "q_predictions = vqc.predict(X_test_np)\n",
    "confusion2 = confusion_matrix(y_test_np, q_predictions)\n",
    "from sklearn.metrics import ConfusionMatrixDisplay\n",
    "ConfusionMatrixDisplay(confusion2).plot()\n",
    "#sns.heatmap(confusion2, annot = True, cmap = \"Blues\", fmt = \"d\")\n",
    "#plot.xlabel(\"Predict values\")\n",
    "#plot.ylabel(\"Real values\")\n",
    "#plot.title(\"Confusion Matrix (VQC)\")\n",
    "#plot.show()"
   ]
  },
  {
   "cell_type": "code",
   "execution_count": 51,
   "metadata": {},
   "outputs": [
    {
     "name": "stdout",
     "output_type": "stream",
     "text": [
      "Quantum VQC on the training dataset: 0.54\n",
      "Quantum VQC on the test dataset:     0.61\n"
     ]
    }
   ],
   "source": [
    "train_score_q4 = vqc.score(X_train_np, y_train_np)\n",
    "test_score_q4 = vqc.score(X_test_np, y_test_np)\n",
    "\n",
    "print(f\"Quantum VQC on the training dataset: {train_score_q4:.2f}\")\n",
    "print(f\"Quantum VQC on the test dataset:     {test_score_q4:.2f}\")"
   ]
  },
  {
   "cell_type": "code",
   "execution_count": 52,
   "metadata": {},
   "outputs": [
    {
     "name": "stdout",
     "output_type": "stream",
     "text": [
      "              precision    recall  f1-score   support\n",
      "\n",
      "           0   0.784335  0.663339  0.718781      1102\n",
      "           1   0.283784  0.422414  0.339492       348\n",
      "\n",
      "    accuracy                       0.605517      1450\n",
      "   macro avg   0.534059  0.542877  0.529136      1450\n",
      "weighted avg   0.664203  0.605517  0.627751      1450\n",
      "\n"
     ]
    }
   ],
   "source": [
    "from sklearn.metrics import classification_report\n",
    "print(classification_report( y_test_np, q_predictions, digits=6))"
   ]
  },
  {
   "cell_type": "markdown",
   "metadata": {},
   "source": [
    "Utilizando Pegasus"
   ]
  },
  {
   "cell_type": "code",
   "execution_count": 53,
   "metadata": {},
   "outputs": [],
   "source": [
    "import numpy as np\n",
    "X_train_np = np.array(features_train.values)\n",
    "y_train_np = labels_train.values"
   ]
  },
  {
   "cell_type": "code",
   "execution_count": 54,
   "metadata": {},
   "outputs": [],
   "source": [
    "import numpy as np\n",
    "X_test_np = np.array(features_test.values)\n",
    "y_test_np = labels_test.values"
   ]
  },
  {
   "cell_type": "code",
   "execution_count": 55,
   "metadata": {},
   "outputs": [],
   "source": [
    "# number of qubits is equal to the number of features\n",
    "num_qubits = len(features.columns)\n",
    "\n",
    "# number of steps performed during the training procedure\n",
    "tau = 100\n",
    "\n",
    "# regularization parameter\n",
    "C = 1000"
   ]
  },
  {
   "cell_type": "code",
   "execution_count": 56,
   "metadata": {},
   "outputs": [],
   "source": [
    "#from qiskit import BasicAer\n",
    "from qiskit.circuit.library import ZFeatureMap\n",
    "from qiskit_algorithms.utils import algorithm_globals\n",
    "\n",
    "from qiskit_machine_learning.kernels import FidelityQuantumKernel\n",
    "\n",
    "algorithm_globals.random_seed = 12345\n",
    "\n",
    "feature_map = ZFeatureMap(feature_dimension=num_qubits, reps=1)\n",
    "\n",
    "qkernel = FidelityQuantumKernel(feature_map=feature_map)"
   ]
  },
  {
   "cell_type": "code",
   "execution_count": 57,
   "metadata": {},
   "outputs": [
    {
     "name": "stdout",
     "output_type": "stream",
     "text": [
      "Training time: 6 seconds\n",
      "PegasosQSVC classification test score: 0.5834482758620689\n"
     ]
    }
   ],
   "source": [
    "from qiskit_machine_learning.algorithms import PegasosQSVC\n",
    "import time\n",
    "np.random.seed(123)\n",
    "pegasos_qsvc = PegasosQSVC(quantum_kernel=qkernel, C=C, num_steps=tau)\n",
    "\n",
    "# training\n",
    "start = time.time()\n",
    "pegasos_qsvc.fit(X_train_np, y_train_np)\n",
    "elapsed = time.time() - start\n",
    "\n",
    "print(f\"Training time: {round(elapsed)} seconds\")\n",
    "\n",
    "# testing\n",
    "pegasos_score = pegasos_qsvc.score(X_test_np, y_test_np)\n",
    "print(f\"PegasosQSVC classification test score: {pegasos_score}\")"
   ]
  },
  {
   "cell_type": "code",
   "execution_count": 58,
   "metadata": {},
   "outputs": [
    {
     "data": {
      "text/plain": [
       "<sklearn.metrics._plot.confusion_matrix.ConfusionMatrixDisplay at 0x2bf2cc4f990>"
      ]
     },
     "execution_count": 58,
     "metadata": {},
     "output_type": "execute_result"
    },
    {
     "data": {
      "image/png": "[encoded data removed]",
      "text/plain": [
       "<Figure size 1200x600 with 2 Axes>"
      ]
     },
     "metadata": {},
     "output_type": "display_data"
    }
   ],
   "source": [
    "import matplotlib.pyplot as plot\n",
    "import seaborn as sns\n",
    "from sklearn.metrics import confusion_matrix\n",
    "q_predictions = pegasos_qsvc.predict(X_test_np)\n",
    "confusion2 = confusion_matrix(y_test_np, q_predictions)\n",
    "from sklearn.metrics import ConfusionMatrixDisplay\n",
    "ConfusionMatrixDisplay(confusion2).plot()\n",
    "#sns.heatmap(confusion2, annot = True, cmap = \"Blues\", fmt = \"d\")\n",
    "#plot.xlabel(\"Predict values\")\n",
    "#plot.ylabel(\"Real values\")\n",
    "#plot.title(\"Confusion Matrix (PegasusQSVC)\")\n",
    "#plot.show()"
   ]
  },
  {
   "cell_type": "code",
   "execution_count": 59,
   "metadata": {},
   "outputs": [
    {
     "name": "stdout",
     "output_type": "stream",
     "text": [
      "Quantum PQSVC on the training dataset: 0.62\n",
      "Quantum PQSVC on the test dataset:     0.58\n"
     ]
    }
   ],
   "source": [
    "train_score_q4 = pegasos_qsvc.score(X_train_np, y_train_np)\n",
    "test_score_q4 = pegasos_qsvc.score(X_test_np, y_test_np)\n",
    "\n",
    "print(f\"Quantum PQSVC on the training dataset: {train_score_q4:.2f}\")\n",
    "print(f\"Quantum PQSVC on the test dataset:     {test_score_q4:.2f}\")"
   ]
  },
  {
   "cell_type": "code",
   "execution_count": 60,
   "metadata": {},
   "outputs": [
    {
     "name": "stdout",
     "output_type": "stream",
     "text": [
      "              precision    recall  f1-score   support\n",
      "\n",
      "           0   0.831117  0.567151  0.674218      1102\n",
      "           1   0.316619  0.635057  0.422562       348\n",
      "\n",
      "    accuracy                       0.583448      1450\n",
      "   macro avg   0.573868  0.601104  0.548390      1450\n",
      "weighted avg   0.707637  0.583448  0.613821      1450\n",
      "\n"
     ]
    }
   ],
   "source": [
    "from sklearn.metrics import classification_report\n",
    "print(classification_report( y_test_np, q_predictions, digits=6))"
   ]
  }
 ],
 "metadata": {
  "kernelspec": {
   "display_name": "Python 3",
   "language": "python",
   "name": "python3"
  },
  "language_info": {
   "codemirror_mode": {
    "name": "ipython",
    "version": 3
   },
   "file_extension": ".py",
   "mimetype": "text/x-python",
   "name": "python",
   "nbconvert_exporter": "python",
   "pygments_lexer": "ipython3",
   "version": "3.11.7"
  }
 },
 "nbformat": 4,
 "nbformat_minor": 2
}
